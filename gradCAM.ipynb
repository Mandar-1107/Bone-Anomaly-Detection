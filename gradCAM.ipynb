{
 "cells": [
  {
   "cell_type": "code",
   "execution_count": 17,
   "id": "3935e068-ec2f-4cbc-8fb6-7fea251658fa",
   "metadata": {},
   "outputs": [
    {
     "name": "stdout",
     "output_type": "stream",
     "text": [
      "Using device: cpu\n",
      "\n",
      "============================================================\n",
      "Processing XR_ELBOW\n",
      "============================================================\n"
     ]
    },
    {
     "name": "stderr",
     "output_type": "stream",
     "text": [
      "C:\\Users\\ASUS\\AppData\\Local\\Temp\\ipykernel_14588\\1223658375.py:73: FutureWarning: You are using `torch.load` with `weights_only=False` (the current default value), which uses the default pickle module implicitly. It is possible to construct malicious pickle data which will execute arbitrary code during unpickling (See https://github.com/pytorch/pytorch/blob/main/SECURITY.md#untrusted-models for more details). In a future release, the default value for `weights_only` will be flipped to `True`. This limits the functions that could be executed during unpickling. Arbitrary objects will no longer be allowed to be loaded via this mode unless they are explicitly allowlisted by the user via `torch.serialization.add_safe_globals`. We recommend you start setting `weights_only=True` for any use case where you don't have full control of the loaded file. Please open an issue on GitHub for any issues related to this experimental feature.\n",
      "  checkpoint = torch.load(model_path, map_location=device)\n"
     ]
    },
    {
     "name": "stdout",
     "output_type": "stream",
     "text": [
      "✅ Model loaded successfully for XR_ELBOW\n",
      "\n",
      "📊 Processing normal cases for XR_ELBOW...\n",
      "📁 Found 3 normal images for XR_ELBOW\n"
     ]
    },
    {
     "name": "stderr",
     "output_type": "stream",
     "text": [
      "Generating normal CAMs:   0%|                                                                    | 0/3 [00:00<?, ?it/s]C:\\Users\\ASUS\\AppData\\Roaming\\Python\\Python312\\site-packages\\torch\\nn\\modules\\module.py:1827: FutureWarning: Using a non-full backward hook when the forward contains multiple autograd Nodes is deprecated and will be removed in future versions. This hook will be missing some grad_input. Please use register_full_backward_hook to get the documented behavior.\n",
      "  self._maybe_warn_non_full_backward_hook(args, result, grad_fn)\n"
     ]
    },
    {
     "name": "stdout",
     "output_type": "stream",
     "text": [
      "Saving to directory: C:\\Users\\ASUS\\OneDrive\\Desktop\\Mura\\cam_visualizations_all_parts\\XR_ELBOW\\normal\\predicted\n",
      "Saved original to: C:\\Users\\ASUS\\OneDrive\\Desktop\\Mura\\cam_visualizations_all_parts\\XR_ELBOW\\normal\\predicted\\XR_ELBOW_normal_predicted_0_20250723_125328_original.png\n",
      "Saved heatmap to: C:\\Users\\ASUS\\OneDrive\\Desktop\\Mura\\cam_visualizations_all_parts\\XR_ELBOW\\normal\\predicted\\XR_ELBOW_normal_predicted_0_20250723_125328_heatmap.png\n",
      "Saved overlay to: C:\\Users\\ASUS\\OneDrive\\Desktop\\Mura\\cam_visualizations_all_parts\\XR_ELBOW\\normal\\predicted\\XR_ELBOW_normal_predicted_0_20250723_125328_cam_overlay.png\n"
     ]
    },
    {
     "name": "stderr",
     "output_type": "stream",
     "text": [
      "Generating normal CAMs:  33%|████████████████████                                        | 1/3 [00:00<00:01,  1.47it/s]"
     ]
    },
    {
     "name": "stdout",
     "output_type": "stream",
     "text": [
      "Saving to directory: C:\\Users\\ASUS\\OneDrive\\Desktop\\Mura\\cam_visualizations_all_parts\\XR_ELBOW\\normal\\actual\n",
      "Saved original to: C:\\Users\\ASUS\\OneDrive\\Desktop\\Mura\\cam_visualizations_all_parts\\XR_ELBOW\\normal\\actual\\XR_ELBOW_normal_actual_0_20250723_125328_original.png\n",
      "Saved heatmap to: C:\\Users\\ASUS\\OneDrive\\Desktop\\Mura\\cam_visualizations_all_parts\\XR_ELBOW\\normal\\actual\\XR_ELBOW_normal_actual_0_20250723_125328_heatmap.png\n",
      "Saved overlay to: C:\\Users\\ASUS\\OneDrive\\Desktop\\Mura\\cam_visualizations_all_parts\\XR_ELBOW\\normal\\actual\\XR_ELBOW_normal_actual_0_20250723_125328_cam_overlay.png\n",
      "Saving to directory: C:\\Users\\ASUS\\OneDrive\\Desktop\\Mura\\cam_visualizations_all_parts\\XR_ELBOW\\normal\\predicted\n",
      "Saved original to: C:\\Users\\ASUS\\OneDrive\\Desktop\\Mura\\cam_visualizations_all_parts\\XR_ELBOW\\normal\\predicted\\XR_ELBOW_normal_predicted_1_20250723_125330_original.png\n",
      "Saved heatmap to: C:\\Users\\ASUS\\OneDrive\\Desktop\\Mura\\cam_visualizations_all_parts\\XR_ELBOW\\normal\\predicted\\XR_ELBOW_normal_predicted_1_20250723_125330_heatmap.png\n",
      "Saved overlay to: C:\\Users\\ASUS\\OneDrive\\Desktop\\Mura\\cam_visualizations_all_parts\\XR_ELBOW\\normal\\predicted\\XR_ELBOW_normal_predicted_1_20250723_125330_cam_overlay.png\n"
     ]
    },
    {
     "name": "stderr",
     "output_type": "stream",
     "text": [
      "Generating normal CAMs:  67%|████████████████████████████████████████                    | 2/3 [00:04<00:02,  2.26s/it]"
     ]
    },
    {
     "name": "stdout",
     "output_type": "stream",
     "text": [
      "Saving to directory: C:\\Users\\ASUS\\OneDrive\\Desktop\\Mura\\cam_visualizations_all_parts\\XR_ELBOW\\normal\\actual\n",
      "Saved original to: C:\\Users\\ASUS\\OneDrive\\Desktop\\Mura\\cam_visualizations_all_parts\\XR_ELBOW\\normal\\actual\\XR_ELBOW_normal_actual_1_20250723_125332_original.png\n",
      "Saved heatmap to: C:\\Users\\ASUS\\OneDrive\\Desktop\\Mura\\cam_visualizations_all_parts\\XR_ELBOW\\normal\\actual\\XR_ELBOW_normal_actual_1_20250723_125332_heatmap.png\n",
      "Saved overlay to: C:\\Users\\ASUS\\OneDrive\\Desktop\\Mura\\cam_visualizations_all_parts\\XR_ELBOW\\normal\\actual\\XR_ELBOW_normal_actual_1_20250723_125332_cam_overlay.png\n",
      "Saving to directory: C:\\Users\\ASUS\\OneDrive\\Desktop\\Mura\\cam_visualizations_all_parts\\XR_ELBOW\\normal\\predicted\n",
      "Saved original to: C:\\Users\\ASUS\\OneDrive\\Desktop\\Mura\\cam_visualizations_all_parts\\XR_ELBOW\\normal\\predicted\\XR_ELBOW_normal_predicted_2_20250723_125334_original.png\n",
      "Saved heatmap to: C:\\Users\\ASUS\\OneDrive\\Desktop\\Mura\\cam_visualizations_all_parts\\XR_ELBOW\\normal\\predicted\\XR_ELBOW_normal_predicted_2_20250723_125334_heatmap.png\n",
      "Saved overlay to: C:\\Users\\ASUS\\OneDrive\\Desktop\\Mura\\cam_visualizations_all_parts\\XR_ELBOW\\normal\\predicted\\XR_ELBOW_normal_predicted_2_20250723_125334_cam_overlay.png\n"
     ]
    },
    {
     "name": "stderr",
     "output_type": "stream",
     "text": [
      "Generating normal CAMs: 100%|████████████████████████████████████████████████████████████| 3/3 [00:07<00:00,  2.49s/it]\n"
     ]
    },
    {
     "name": "stdout",
     "output_type": "stream",
     "text": [
      "Saving to directory: C:\\Users\\ASUS\\OneDrive\\Desktop\\Mura\\cam_visualizations_all_parts\\XR_ELBOW\\normal\\actual\n",
      "Saved original to: C:\\Users\\ASUS\\OneDrive\\Desktop\\Mura\\cam_visualizations_all_parts\\XR_ELBOW\\normal\\actual\\XR_ELBOW_normal_actual_2_20250723_125335_original.png\n",
      "Saved heatmap to: C:\\Users\\ASUS\\OneDrive\\Desktop\\Mura\\cam_visualizations_all_parts\\XR_ELBOW\\normal\\actual\\XR_ELBOW_normal_actual_2_20250723_125335_heatmap.png\n",
      "Saved overlay to: C:\\Users\\ASUS\\OneDrive\\Desktop\\Mura\\cam_visualizations_all_parts\\XR_ELBOW\\normal\\actual\\XR_ELBOW_normal_actual_2_20250723_125335_cam_overlay.png\n",
      "\n",
      "📊 Processing abnormal cases for XR_ELBOW...\n",
      "📁 Found 3 abnormal images for XR_ELBOW\n"
     ]
    },
    {
     "name": "stderr",
     "output_type": "stream",
     "text": [
      "Generating abnormal CAMs:   0%|                                                                  | 0/3 [00:00<?, ?it/s]"
     ]
    },
    {
     "name": "stdout",
     "output_type": "stream",
     "text": [
      "Saving to directory: C:\\Users\\ASUS\\OneDrive\\Desktop\\Mura\\cam_visualizations_all_parts\\XR_ELBOW\\abnormal\\predicted\n",
      "Saved original to: C:\\Users\\ASUS\\OneDrive\\Desktop\\Mura\\cam_visualizations_all_parts\\XR_ELBOW\\abnormal\\predicted\\XR_ELBOW_abnormal_predicted_0_20250723_125337_original.png\n",
      "Saved heatmap to: C:\\Users\\ASUS\\OneDrive\\Desktop\\Mura\\cam_visualizations_all_parts\\XR_ELBOW\\abnormal\\predicted\\XR_ELBOW_abnormal_predicted_0_20250723_125337_heatmap.png\n",
      "Saved overlay to: C:\\Users\\ASUS\\OneDrive\\Desktop\\Mura\\cam_visualizations_all_parts\\XR_ELBOW\\abnormal\\predicted\\XR_ELBOW_abnormal_predicted_0_20250723_125337_cam_overlay.png\n"
     ]
    },
    {
     "name": "stderr",
     "output_type": "stream",
     "text": [
      "Generating abnormal CAMs:  33%|███████████████████▎                                      | 1/3 [00:02<00:05,  2.87s/it]"
     ]
    },
    {
     "name": "stdout",
     "output_type": "stream",
     "text": [
      "Saving to directory: C:\\Users\\ASUS\\OneDrive\\Desktop\\Mura\\cam_visualizations_all_parts\\XR_ELBOW\\abnormal\\actual\n",
      "Saved original to: C:\\Users\\ASUS\\OneDrive\\Desktop\\Mura\\cam_visualizations_all_parts\\XR_ELBOW\\abnormal\\actual\\XR_ELBOW_abnormal_actual_0_20250723_125338_original.png\n",
      "Saved heatmap to: C:\\Users\\ASUS\\OneDrive\\Desktop\\Mura\\cam_visualizations_all_parts\\XR_ELBOW\\abnormal\\actual\\XR_ELBOW_abnormal_actual_0_20250723_125338_heatmap.png\n",
      "Saved overlay to: C:\\Users\\ASUS\\OneDrive\\Desktop\\Mura\\cam_visualizations_all_parts\\XR_ELBOW\\abnormal\\actual\\XR_ELBOW_abnormal_actual_0_20250723_125338_cam_overlay.png\n",
      "Saving to directory: C:\\Users\\ASUS\\OneDrive\\Desktop\\Mura\\cam_visualizations_all_parts\\XR_ELBOW\\abnormal\\predicted\n",
      "Saved original to: C:\\Users\\ASUS\\OneDrive\\Desktop\\Mura\\cam_visualizations_all_parts\\XR_ELBOW\\abnormal\\predicted\\XR_ELBOW_abnormal_predicted_1_20250723_125339_original.png\n",
      "Saved heatmap to: C:\\Users\\ASUS\\OneDrive\\Desktop\\Mura\\cam_visualizations_all_parts\\XR_ELBOW\\abnormal\\predicted\\XR_ELBOW_abnormal_predicted_1_20250723_125339_heatmap.png\n",
      "Saved overlay to: C:\\Users\\ASUS\\OneDrive\\Desktop\\Mura\\cam_visualizations_all_parts\\XR_ELBOW\\abnormal\\predicted\\XR_ELBOW_abnormal_predicted_1_20250723_125339_cam_overlay.png\n"
     ]
    },
    {
     "name": "stderr",
     "output_type": "stream",
     "text": [
      "Generating abnormal CAMs:  67%|██████████████████████████████████████▋                   | 2/3 [00:05<00:02,  2.95s/it]"
     ]
    },
    {
     "name": "stdout",
     "output_type": "stream",
     "text": [
      "Saving to directory: C:\\Users\\ASUS\\OneDrive\\Desktop\\Mura\\cam_visualizations_all_parts\\XR_ELBOW\\abnormal\\actual\n",
      "Saved original to: C:\\Users\\ASUS\\OneDrive\\Desktop\\Mura\\cam_visualizations_all_parts\\XR_ELBOW\\abnormal\\actual\\XR_ELBOW_abnormal_actual_1_20250723_125341_original.png\n",
      "Saved heatmap to: C:\\Users\\ASUS\\OneDrive\\Desktop\\Mura\\cam_visualizations_all_parts\\XR_ELBOW\\abnormal\\actual\\XR_ELBOW_abnormal_actual_1_20250723_125341_heatmap.png\n",
      "Saved overlay to: C:\\Users\\ASUS\\OneDrive\\Desktop\\Mura\\cam_visualizations_all_parts\\XR_ELBOW\\abnormal\\actual\\XR_ELBOW_abnormal_actual_1_20250723_125341_cam_overlay.png\n",
      "Saving to directory: C:\\Users\\ASUS\\OneDrive\\Desktop\\Mura\\cam_visualizations_all_parts\\XR_ELBOW\\abnormal\\predicted\n",
      "Saved original to: C:\\Users\\ASUS\\OneDrive\\Desktop\\Mura\\cam_visualizations_all_parts\\XR_ELBOW\\abnormal\\predicted\\XR_ELBOW_abnormal_predicted_2_20250723_125343_original.png\n",
      "Saved heatmap to: C:\\Users\\ASUS\\OneDrive\\Desktop\\Mura\\cam_visualizations_all_parts\\XR_ELBOW\\abnormal\\predicted\\XR_ELBOW_abnormal_predicted_2_20250723_125343_heatmap.png\n",
      "Saved overlay to: C:\\Users\\ASUS\\OneDrive\\Desktop\\Mura\\cam_visualizations_all_parts\\XR_ELBOW\\abnormal\\predicted\\XR_ELBOW_abnormal_predicted_2_20250723_125343_cam_overlay.png\n"
     ]
    },
    {
     "name": "stderr",
     "output_type": "stream",
     "text": [
      "Generating abnormal CAMs: 100%|██████████████████████████████████████████████████████████| 3/3 [00:08<00:00,  2.99s/it]"
     ]
    },
    {
     "name": "stdout",
     "output_type": "stream",
     "text": [
      "Saving to directory: C:\\Users\\ASUS\\OneDrive\\Desktop\\Mura\\cam_visualizations_all_parts\\XR_ELBOW\\abnormal\\actual\n",
      "Saved original to: C:\\Users\\ASUS\\OneDrive\\Desktop\\Mura\\cam_visualizations_all_parts\\XR_ELBOW\\abnormal\\actual\\XR_ELBOW_abnormal_actual_2_20250723_125344_original.png\n",
      "Saved heatmap to: C:\\Users\\ASUS\\OneDrive\\Desktop\\Mura\\cam_visualizations_all_parts\\XR_ELBOW\\abnormal\\actual\\XR_ELBOW_abnormal_actual_2_20250723_125344_heatmap.png\n",
      "Saved overlay to: C:\\Users\\ASUS\\OneDrive\\Desktop\\Mura\\cam_visualizations_all_parts\\XR_ELBOW\\abnormal\\actual\\XR_ELBOW_abnormal_actual_2_20250723_125344_cam_overlay.png\n",
      "\n",
      "============================================================\n",
      "Processing XR_FINGER\n",
      "============================================================\n"
     ]
    },
    {
     "name": "stderr",
     "output_type": "stream",
     "text": [
      "\n"
     ]
    },
    {
     "name": "stdout",
     "output_type": "stream",
     "text": [
      "✅ Model loaded successfully for XR_FINGER\n",
      "\n",
      "📊 Processing normal cases for XR_FINGER...\n",
      "📁 Found 3 normal images for XR_FINGER\n"
     ]
    },
    {
     "name": "stderr",
     "output_type": "stream",
     "text": [
      "Generating normal CAMs:   0%|                                                                    | 0/3 [00:00<?, ?it/s]"
     ]
    },
    {
     "name": "stdout",
     "output_type": "stream",
     "text": [
      "Saving to directory: C:\\Users\\ASUS\\OneDrive\\Desktop\\Mura\\cam_visualizations_all_parts\\XR_FINGER\\normal\\predicted\n",
      "Saved original to: C:\\Users\\ASUS\\OneDrive\\Desktop\\Mura\\cam_visualizations_all_parts\\XR_FINGER\\normal\\predicted\\XR_FINGER_normal_predicted_0_20250723_125346_original.png\n",
      "Saved heatmap to: C:\\Users\\ASUS\\OneDrive\\Desktop\\Mura\\cam_visualizations_all_parts\\XR_FINGER\\normal\\predicted\\XR_FINGER_normal_predicted_0_20250723_125346_heatmap.png\n",
      "Saved overlay to: C:\\Users\\ASUS\\OneDrive\\Desktop\\Mura\\cam_visualizations_all_parts\\XR_FINGER\\normal\\predicted\\XR_FINGER_normal_predicted_0_20250723_125346_cam_overlay.png\n"
     ]
    },
    {
     "name": "stderr",
     "output_type": "stream",
     "text": [
      "Generating normal CAMs:  33%|████████████████████                                        | 1/3 [00:03<00:06,  3.45s/it]"
     ]
    },
    {
     "name": "stdout",
     "output_type": "stream",
     "text": [
      "Saving to directory: C:\\Users\\ASUS\\OneDrive\\Desktop\\Mura\\cam_visualizations_all_parts\\XR_FINGER\\normal\\actual\n",
      "Saved original to: C:\\Users\\ASUS\\OneDrive\\Desktop\\Mura\\cam_visualizations_all_parts\\XR_FINGER\\normal\\actual\\XR_FINGER_normal_actual_0_20250723_125348_original.png\n",
      "Saved heatmap to: C:\\Users\\ASUS\\OneDrive\\Desktop\\Mura\\cam_visualizations_all_parts\\XR_FINGER\\normal\\actual\\XR_FINGER_normal_actual_0_20250723_125348_heatmap.png\n",
      "Saved overlay to: C:\\Users\\ASUS\\OneDrive\\Desktop\\Mura\\cam_visualizations_all_parts\\XR_FINGER\\normal\\actual\\XR_FINGER_normal_actual_0_20250723_125348_cam_overlay.png\n",
      "Saving to directory: C:\\Users\\ASUS\\OneDrive\\Desktop\\Mura\\cam_visualizations_all_parts\\XR_FINGER\\normal\\predicted\n",
      "Saved original to: C:\\Users\\ASUS\\OneDrive\\Desktop\\Mura\\cam_visualizations_all_parts\\XR_FINGER\\normal\\predicted\\XR_FINGER_normal_predicted_1_20250723_125350_original.png\n",
      "Saved heatmap to: C:\\Users\\ASUS\\OneDrive\\Desktop\\Mura\\cam_visualizations_all_parts\\XR_FINGER\\normal\\predicted\\XR_FINGER_normal_predicted_1_20250723_125350_heatmap.png\n",
      "Saved overlay to: C:\\Users\\ASUS\\OneDrive\\Desktop\\Mura\\cam_visualizations_all_parts\\XR_FINGER\\normal\\predicted\\XR_FINGER_normal_predicted_1_20250723_125350_cam_overlay.png\n"
     ]
    },
    {
     "name": "stderr",
     "output_type": "stream",
     "text": [
      "Generating normal CAMs:  67%|████████████████████████████████████████                    | 2/3 [00:07<00:03,  3.59s/it]"
     ]
    },
    {
     "name": "stdout",
     "output_type": "stream",
     "text": [
      "Saving to directory: C:\\Users\\ASUS\\OneDrive\\Desktop\\Mura\\cam_visualizations_all_parts\\XR_FINGER\\normal\\actual\n",
      "Saved original to: C:\\Users\\ASUS\\OneDrive\\Desktop\\Mura\\cam_visualizations_all_parts\\XR_FINGER\\normal\\actual\\XR_FINGER_normal_actual_1_20250723_125351_original.png\n",
      "Saved heatmap to: C:\\Users\\ASUS\\OneDrive\\Desktop\\Mura\\cam_visualizations_all_parts\\XR_FINGER\\normal\\actual\\XR_FINGER_normal_actual_1_20250723_125351_heatmap.png\n",
      "Saved overlay to: C:\\Users\\ASUS\\OneDrive\\Desktop\\Mura\\cam_visualizations_all_parts\\XR_FINGER\\normal\\actual\\XR_FINGER_normal_actual_1_20250723_125351_cam_overlay.png\n",
      "Saving to directory: C:\\Users\\ASUS\\OneDrive\\Desktop\\Mura\\cam_visualizations_all_parts\\XR_FINGER\\normal\\predicted\n",
      "Saved original to: C:\\Users\\ASUS\\OneDrive\\Desktop\\Mura\\cam_visualizations_all_parts\\XR_FINGER\\normal\\predicted\\XR_FINGER_normal_predicted_2_20250723_125353_original.png\n",
      "Saved heatmap to: C:\\Users\\ASUS\\OneDrive\\Desktop\\Mura\\cam_visualizations_all_parts\\XR_FINGER\\normal\\predicted\\XR_FINGER_normal_predicted_2_20250723_125353_heatmap.png\n",
      "Saved overlay to: C:\\Users\\ASUS\\OneDrive\\Desktop\\Mura\\cam_visualizations_all_parts\\XR_FINGER\\normal\\predicted\\XR_FINGER_normal_predicted_2_20250723_125353_cam_overlay.png\n"
     ]
    },
    {
     "name": "stderr",
     "output_type": "stream",
     "text": [
      "Generating normal CAMs: 100%|████████████████████████████████████████████████████████████| 3/3 [00:10<00:00,  3.56s/it]\n"
     ]
    },
    {
     "name": "stdout",
     "output_type": "stream",
     "text": [
      "Saving to directory: C:\\Users\\ASUS\\OneDrive\\Desktop\\Mura\\cam_visualizations_all_parts\\XR_FINGER\\normal\\actual\n",
      "Saved original to: C:\\Users\\ASUS\\OneDrive\\Desktop\\Mura\\cam_visualizations_all_parts\\XR_FINGER\\normal\\actual\\XR_FINGER_normal_actual_2_20250723_125355_original.png\n",
      "Saved heatmap to: C:\\Users\\ASUS\\OneDrive\\Desktop\\Mura\\cam_visualizations_all_parts\\XR_FINGER\\normal\\actual\\XR_FINGER_normal_actual_2_20250723_125355_heatmap.png\n",
      "Saved overlay to: C:\\Users\\ASUS\\OneDrive\\Desktop\\Mura\\cam_visualizations_all_parts\\XR_FINGER\\normal\\actual\\XR_FINGER_normal_actual_2_20250723_125355_cam_overlay.png\n",
      "\n",
      "📊 Processing abnormal cases for XR_FINGER...\n",
      "📁 Found 3 abnormal images for XR_FINGER\n"
     ]
    },
    {
     "name": "stderr",
     "output_type": "stream",
     "text": [
      "Generating abnormal CAMs:   0%|                                                                  | 0/3 [00:00<?, ?it/s]"
     ]
    },
    {
     "name": "stdout",
     "output_type": "stream",
     "text": [
      "Saving to directory: C:\\Users\\ASUS\\OneDrive\\Desktop\\Mura\\cam_visualizations_all_parts\\XR_FINGER\\abnormal\\predicted\n",
      "Saved original to: C:\\Users\\ASUS\\OneDrive\\Desktop\\Mura\\cam_visualizations_all_parts\\XR_FINGER\\abnormal\\predicted\\XR_FINGER_abnormal_predicted_0_20250723_125357_original.png\n",
      "Saved heatmap to: C:\\Users\\ASUS\\OneDrive\\Desktop\\Mura\\cam_visualizations_all_parts\\XR_FINGER\\abnormal\\predicted\\XR_FINGER_abnormal_predicted_0_20250723_125357_heatmap.png\n",
      "Saved overlay to: C:\\Users\\ASUS\\OneDrive\\Desktop\\Mura\\cam_visualizations_all_parts\\XR_FINGER\\abnormal\\predicted\\XR_FINGER_abnormal_predicted_0_20250723_125357_cam_overlay.png\n"
     ]
    },
    {
     "name": "stderr",
     "output_type": "stream",
     "text": [
      "Generating abnormal CAMs:  33%|███████████████████▎                                      | 1/3 [00:03<00:07,  3.80s/it]"
     ]
    },
    {
     "name": "stdout",
     "output_type": "stream",
     "text": [
      "Saving to directory: C:\\Users\\ASUS\\OneDrive\\Desktop\\Mura\\cam_visualizations_all_parts\\XR_FINGER\\abnormal\\actual\n",
      "Saved original to: C:\\Users\\ASUS\\OneDrive\\Desktop\\Mura\\cam_visualizations_all_parts\\XR_FINGER\\abnormal\\actual\\XR_FINGER_abnormal_actual_0_20250723_125359_original.png\n",
      "Saved heatmap to: C:\\Users\\ASUS\\OneDrive\\Desktop\\Mura\\cam_visualizations_all_parts\\XR_FINGER\\abnormal\\actual\\XR_FINGER_abnormal_actual_0_20250723_125359_heatmap.png\n",
      "Saved overlay to: C:\\Users\\ASUS\\OneDrive\\Desktop\\Mura\\cam_visualizations_all_parts\\XR_FINGER\\abnormal\\actual\\XR_FINGER_abnormal_actual_0_20250723_125359_cam_overlay.png\n",
      "Saving to directory: C:\\Users\\ASUS\\OneDrive\\Desktop\\Mura\\cam_visualizations_all_parts\\XR_FINGER\\abnormal\\predicted\n",
      "Saved original to: C:\\Users\\ASUS\\OneDrive\\Desktop\\Mura\\cam_visualizations_all_parts\\XR_FINGER\\abnormal\\predicted\\XR_FINGER_abnormal_predicted_1_20250723_125401_original.png\n",
      "Saved heatmap to: C:\\Users\\ASUS\\OneDrive\\Desktop\\Mura\\cam_visualizations_all_parts\\XR_FINGER\\abnormal\\predicted\\XR_FINGER_abnormal_predicted_1_20250723_125401_heatmap.png\n",
      "Saved overlay to: C:\\Users\\ASUS\\OneDrive\\Desktop\\Mura\\cam_visualizations_all_parts\\XR_FINGER\\abnormal\\predicted\\XR_FINGER_abnormal_predicted_1_20250723_125401_cam_overlay.png\n"
     ]
    },
    {
     "name": "stderr",
     "output_type": "stream",
     "text": [
      "Generating abnormal CAMs:  67%|██████████████████████████████████████▋                   | 2/3 [00:06<00:03,  3.45s/it]"
     ]
    },
    {
     "name": "stdout",
     "output_type": "stream",
     "text": [
      "Saving to directory: C:\\Users\\ASUS\\OneDrive\\Desktop\\Mura\\cam_visualizations_all_parts\\XR_FINGER\\abnormal\\actual\n",
      "Saved original to: C:\\Users\\ASUS\\OneDrive\\Desktop\\Mura\\cam_visualizations_all_parts\\XR_FINGER\\abnormal\\actual\\XR_FINGER_abnormal_actual_1_20250723_125402_original.png\n",
      "Saved heatmap to: C:\\Users\\ASUS\\OneDrive\\Desktop\\Mura\\cam_visualizations_all_parts\\XR_FINGER\\abnormal\\actual\\XR_FINGER_abnormal_actual_1_20250723_125402_heatmap.png\n",
      "Saved overlay to: C:\\Users\\ASUS\\OneDrive\\Desktop\\Mura\\cam_visualizations_all_parts\\XR_FINGER\\abnormal\\actual\\XR_FINGER_abnormal_actual_1_20250723_125402_cam_overlay.png\n",
      "Saving to directory: C:\\Users\\ASUS\\OneDrive\\Desktop\\Mura\\cam_visualizations_all_parts\\XR_FINGER\\abnormal\\predicted\n",
      "Saved original to: C:\\Users\\ASUS\\OneDrive\\Desktop\\Mura\\cam_visualizations_all_parts\\XR_FINGER\\abnormal\\predicted\\XR_FINGER_abnormal_predicted_2_20250723_125404_original.png\n",
      "Saved heatmap to: C:\\Users\\ASUS\\OneDrive\\Desktop\\Mura\\cam_visualizations_all_parts\\XR_FINGER\\abnormal\\predicted\\XR_FINGER_abnormal_predicted_2_20250723_125404_heatmap.png\n",
      "Saved overlay to: C:\\Users\\ASUS\\OneDrive\\Desktop\\Mura\\cam_visualizations_all_parts\\XR_FINGER\\abnormal\\predicted\\XR_FINGER_abnormal_predicted_2_20250723_125404_cam_overlay.png\n"
     ]
    },
    {
     "name": "stderr",
     "output_type": "stream",
     "text": [
      "Generating abnormal CAMs: 100%|██████████████████████████████████████████████████████████| 3/3 [00:10<00:00,  3.49s/it]"
     ]
    },
    {
     "name": "stdout",
     "output_type": "stream",
     "text": [
      "Saving to directory: C:\\Users\\ASUS\\OneDrive\\Desktop\\Mura\\cam_visualizations_all_parts\\XR_FINGER\\abnormal\\actual\n",
      "Saved original to: C:\\Users\\ASUS\\OneDrive\\Desktop\\Mura\\cam_visualizations_all_parts\\XR_FINGER\\abnormal\\actual\\XR_FINGER_abnormal_actual_2_20250723_125405_original.png\n",
      "Saved heatmap to: C:\\Users\\ASUS\\OneDrive\\Desktop\\Mura\\cam_visualizations_all_parts\\XR_FINGER\\abnormal\\actual\\XR_FINGER_abnormal_actual_2_20250723_125405_heatmap.png\n",
      "Saved overlay to: C:\\Users\\ASUS\\OneDrive\\Desktop\\Mura\\cam_visualizations_all_parts\\XR_FINGER\\abnormal\\actual\\XR_FINGER_abnormal_actual_2_20250723_125405_cam_overlay.png\n",
      "\n",
      "============================================================\n",
      "Processing XR_FOREARM\n",
      "============================================================\n"
     ]
    },
    {
     "name": "stderr",
     "output_type": "stream",
     "text": [
      "\n"
     ]
    },
    {
     "name": "stdout",
     "output_type": "stream",
     "text": [
      "✅ Model loaded successfully for XR_FOREARM\n",
      "\n",
      "📊 Processing normal cases for XR_FOREARM...\n",
      "📁 Found 3 normal images for XR_FOREARM\n"
     ]
    },
    {
     "name": "stderr",
     "output_type": "stream",
     "text": [
      "Generating normal CAMs:   0%|                                                                    | 0/3 [00:00<?, ?it/s]"
     ]
    },
    {
     "name": "stdout",
     "output_type": "stream",
     "text": [
      "Saving to directory: C:\\Users\\ASUS\\OneDrive\\Desktop\\Mura\\cam_visualizations_all_parts\\XR_FOREARM\\normal\\predicted\n",
      "Saved original to: C:\\Users\\ASUS\\OneDrive\\Desktop\\Mura\\cam_visualizations_all_parts\\XR_FOREARM\\normal\\predicted\\XR_FOREARM_normal_predicted_0_20250723_125406_original.png\n",
      "Saved heatmap to: C:\\Users\\ASUS\\OneDrive\\Desktop\\Mura\\cam_visualizations_all_parts\\XR_FOREARM\\normal\\predicted\\XR_FOREARM_normal_predicted_0_20250723_125406_heatmap.png\n",
      "Saved overlay to: C:\\Users\\ASUS\\OneDrive\\Desktop\\Mura\\cam_visualizations_all_parts\\XR_FOREARM\\normal\\predicted\\XR_FOREARM_normal_predicted_0_20250723_125406_cam_overlay.png\n"
     ]
    },
    {
     "name": "stderr",
     "output_type": "stream",
     "text": [
      "Generating normal CAMs:  33%|████████████████████                                        | 1/3 [00:01<00:02,  1.35s/it]"
     ]
    },
    {
     "name": "stdout",
     "output_type": "stream",
     "text": [
      "Saving to directory: C:\\Users\\ASUS\\OneDrive\\Desktop\\Mura\\cam_visualizations_all_parts\\XR_FOREARM\\normal\\actual\n",
      "Saved original to: C:\\Users\\ASUS\\OneDrive\\Desktop\\Mura\\cam_visualizations_all_parts\\XR_FOREARM\\normal\\actual\\XR_FOREARM_normal_actual_0_20250723_125407_original.png\n",
      "Saved heatmap to: C:\\Users\\ASUS\\OneDrive\\Desktop\\Mura\\cam_visualizations_all_parts\\XR_FOREARM\\normal\\actual\\XR_FOREARM_normal_actual_0_20250723_125407_heatmap.png\n",
      "Saved overlay to: C:\\Users\\ASUS\\OneDrive\\Desktop\\Mura\\cam_visualizations_all_parts\\XR_FOREARM\\normal\\actual\\XR_FOREARM_normal_actual_0_20250723_125407_cam_overlay.png\n",
      "Saving to directory: C:\\Users\\ASUS\\OneDrive\\Desktop\\Mura\\cam_visualizations_all_parts\\XR_FOREARM\\normal\\predicted\n",
      "Saved original to: C:\\Users\\ASUS\\OneDrive\\Desktop\\Mura\\cam_visualizations_all_parts\\XR_FOREARM\\normal\\predicted\\XR_FOREARM_normal_predicted_1_20250723_125408_original.png\n",
      "Saved heatmap to: C:\\Users\\ASUS\\OneDrive\\Desktop\\Mura\\cam_visualizations_all_parts\\XR_FOREARM\\normal\\predicted\\XR_FOREARM_normal_predicted_1_20250723_125408_heatmap.png\n",
      "Saved overlay to: C:\\Users\\ASUS\\OneDrive\\Desktop\\Mura\\cam_visualizations_all_parts\\XR_FOREARM\\normal\\predicted\\XR_FOREARM_normal_predicted_1_20250723_125408_cam_overlay.png\n"
     ]
    },
    {
     "name": "stderr",
     "output_type": "stream",
     "text": [
      "Generating normal CAMs:  67%|████████████████████████████████████████                    | 2/3 [00:02<00:01,  1.15s/it]"
     ]
    },
    {
     "name": "stdout",
     "output_type": "stream",
     "text": [
      "Saving to directory: C:\\Users\\ASUS\\OneDrive\\Desktop\\Mura\\cam_visualizations_all_parts\\XR_FOREARM\\normal\\actual\n",
      "Saved original to: C:\\Users\\ASUS\\OneDrive\\Desktop\\Mura\\cam_visualizations_all_parts\\XR_FOREARM\\normal\\actual\\XR_FOREARM_normal_actual_1_20250723_125408_original.png\n",
      "Saved heatmap to: C:\\Users\\ASUS\\OneDrive\\Desktop\\Mura\\cam_visualizations_all_parts\\XR_FOREARM\\normal\\actual\\XR_FOREARM_normal_actual_1_20250723_125408_heatmap.png\n",
      "Saved overlay to: C:\\Users\\ASUS\\OneDrive\\Desktop\\Mura\\cam_visualizations_all_parts\\XR_FOREARM\\normal\\actual\\XR_FOREARM_normal_actual_1_20250723_125408_cam_overlay.png\n",
      "Saving to directory: C:\\Users\\ASUS\\OneDrive\\Desktop\\Mura\\cam_visualizations_all_parts\\XR_FOREARM\\normal\\predicted\n",
      "Saved original to: C:\\Users\\ASUS\\OneDrive\\Desktop\\Mura\\cam_visualizations_all_parts\\XR_FOREARM\\normal\\predicted\\XR_FOREARM_normal_predicted_2_20250723_125409_original.png\n",
      "Saved heatmap to: C:\\Users\\ASUS\\OneDrive\\Desktop\\Mura\\cam_visualizations_all_parts\\XR_FOREARM\\normal\\predicted\\XR_FOREARM_normal_predicted_2_20250723_125409_heatmap.png\n",
      "Saved overlay to: C:\\Users\\ASUS\\OneDrive\\Desktop\\Mura\\cam_visualizations_all_parts\\XR_FOREARM\\normal\\predicted\\XR_FOREARM_normal_predicted_2_20250723_125409_cam_overlay.png\n"
     ]
    },
    {
     "name": "stderr",
     "output_type": "stream",
     "text": [
      "Generating normal CAMs: 100%|████████████████████████████████████████████████████████████| 3/3 [00:03<00:00,  1.08s/it]\n"
     ]
    },
    {
     "name": "stdout",
     "output_type": "stream",
     "text": [
      "Saving to directory: C:\\Users\\ASUS\\OneDrive\\Desktop\\Mura\\cam_visualizations_all_parts\\XR_FOREARM\\normal\\actual\n",
      "Saved original to: C:\\Users\\ASUS\\OneDrive\\Desktop\\Mura\\cam_visualizations_all_parts\\XR_FOREARM\\normal\\actual\\XR_FOREARM_normal_actual_2_20250723_125409_original.png\n",
      "Saved heatmap to: C:\\Users\\ASUS\\OneDrive\\Desktop\\Mura\\cam_visualizations_all_parts\\XR_FOREARM\\normal\\actual\\XR_FOREARM_normal_actual_2_20250723_125409_heatmap.png\n",
      "Saved overlay to: C:\\Users\\ASUS\\OneDrive\\Desktop\\Mura\\cam_visualizations_all_parts\\XR_FOREARM\\normal\\actual\\XR_FOREARM_normal_actual_2_20250723_125409_cam_overlay.png\n",
      "\n",
      "📊 Processing abnormal cases for XR_FOREARM...\n",
      "📁 Found 3 abnormal images for XR_FOREARM\n"
     ]
    },
    {
     "name": "stderr",
     "output_type": "stream",
     "text": [
      "Generating abnormal CAMs:   0%|                                                                  | 0/3 [00:00<?, ?it/s]"
     ]
    },
    {
     "name": "stdout",
     "output_type": "stream",
     "text": [
      "Saving to directory: C:\\Users\\ASUS\\OneDrive\\Desktop\\Mura\\cam_visualizations_all_parts\\XR_FOREARM\\abnormal\\predicted\n",
      "Saved original to: C:\\Users\\ASUS\\OneDrive\\Desktop\\Mura\\cam_visualizations_all_parts\\XR_FOREARM\\abnormal\\predicted\\XR_FOREARM_abnormal_predicted_0_20250723_125409_original.png\n",
      "Saved heatmap to: C:\\Users\\ASUS\\OneDrive\\Desktop\\Mura\\cam_visualizations_all_parts\\XR_FOREARM\\abnormal\\predicted\\XR_FOREARM_abnormal_predicted_0_20250723_125409_heatmap.png\n",
      "Saved overlay to: C:\\Users\\ASUS\\OneDrive\\Desktop\\Mura\\cam_visualizations_all_parts\\XR_FOREARM\\abnormal\\predicted\\XR_FOREARM_abnormal_predicted_0_20250723_125409_cam_overlay.png\n"
     ]
    },
    {
     "name": "stderr",
     "output_type": "stream",
     "text": [
      "Generating abnormal CAMs:  33%|███████████████████▎                                      | 1/3 [00:00<00:01,  1.08it/s]"
     ]
    },
    {
     "name": "stdout",
     "output_type": "stream",
     "text": [
      "Saving to directory: C:\\Users\\ASUS\\OneDrive\\Desktop\\Mura\\cam_visualizations_all_parts\\XR_FOREARM\\abnormal\\actual\n",
      "Saved original to: C:\\Users\\ASUS\\OneDrive\\Desktop\\Mura\\cam_visualizations_all_parts\\XR_FOREARM\\abnormal\\actual\\XR_FOREARM_abnormal_actual_0_20250723_125410_original.png\n",
      "Saved heatmap to: C:\\Users\\ASUS\\OneDrive\\Desktop\\Mura\\cam_visualizations_all_parts\\XR_FOREARM\\abnormal\\actual\\XR_FOREARM_abnormal_actual_0_20250723_125410_heatmap.png\n",
      "Saved overlay to: C:\\Users\\ASUS\\OneDrive\\Desktop\\Mura\\cam_visualizations_all_parts\\XR_FOREARM\\abnormal\\actual\\XR_FOREARM_abnormal_actual_0_20250723_125410_cam_overlay.png\n",
      "Saving to directory: C:\\Users\\ASUS\\OneDrive\\Desktop\\Mura\\cam_visualizations_all_parts\\XR_FOREARM\\abnormal\\predicted\n",
      "Saved original to: C:\\Users\\ASUS\\OneDrive\\Desktop\\Mura\\cam_visualizations_all_parts\\XR_FOREARM\\abnormal\\predicted\\XR_FOREARM_abnormal_predicted_1_20250723_125410_original.png\n",
      "Saved heatmap to: C:\\Users\\ASUS\\OneDrive\\Desktop\\Mura\\cam_visualizations_all_parts\\XR_FOREARM\\abnormal\\predicted\\XR_FOREARM_abnormal_predicted_1_20250723_125410_heatmap.png\n",
      "Saved overlay to: C:\\Users\\ASUS\\OneDrive\\Desktop\\Mura\\cam_visualizations_all_parts\\XR_FOREARM\\abnormal\\predicted\\XR_FOREARM_abnormal_predicted_1_20250723_125410_cam_overlay.png\n"
     ]
    },
    {
     "name": "stderr",
     "output_type": "stream",
     "text": [
      "Generating abnormal CAMs:  67%|██████████████████████████████████████▋                   | 2/3 [00:01<00:00,  1.04it/s]"
     ]
    },
    {
     "name": "stdout",
     "output_type": "stream",
     "text": [
      "Saving to directory: C:\\Users\\ASUS\\OneDrive\\Desktop\\Mura\\cam_visualizations_all_parts\\XR_FOREARM\\abnormal\\actual\n",
      "Saved original to: C:\\Users\\ASUS\\OneDrive\\Desktop\\Mura\\cam_visualizations_all_parts\\XR_FOREARM\\abnormal\\actual\\XR_FOREARM_abnormal_actual_1_20250723_125411_original.png\n",
      "Saved heatmap to: C:\\Users\\ASUS\\OneDrive\\Desktop\\Mura\\cam_visualizations_all_parts\\XR_FOREARM\\abnormal\\actual\\XR_FOREARM_abnormal_actual_1_20250723_125411_heatmap.png\n",
      "Saved overlay to: C:\\Users\\ASUS\\OneDrive\\Desktop\\Mura\\cam_visualizations_all_parts\\XR_FOREARM\\abnormal\\actual\\XR_FOREARM_abnormal_actual_1_20250723_125411_cam_overlay.png\n",
      "Saving to directory: C:\\Users\\ASUS\\OneDrive\\Desktop\\Mura\\cam_visualizations_all_parts\\XR_FOREARM\\abnormal\\predicted\n",
      "Saved original to: C:\\Users\\ASUS\\OneDrive\\Desktop\\Mura\\cam_visualizations_all_parts\\XR_FOREARM\\abnormal\\predicted\\XR_FOREARM_abnormal_predicted_2_20250723_125412_original.png\n",
      "Saved heatmap to: C:\\Users\\ASUS\\OneDrive\\Desktop\\Mura\\cam_visualizations_all_parts\\XR_FOREARM\\abnormal\\predicted\\XR_FOREARM_abnormal_predicted_2_20250723_125412_heatmap.png\n",
      "Saved overlay to: C:\\Users\\ASUS\\OneDrive\\Desktop\\Mura\\cam_visualizations_all_parts\\XR_FOREARM\\abnormal\\predicted\\XR_FOREARM_abnormal_predicted_2_20250723_125412_cam_overlay.png\n"
     ]
    },
    {
     "name": "stderr",
     "output_type": "stream",
     "text": [
      "Generating abnormal CAMs: 100%|██████████████████████████████████████████████████████████| 3/3 [00:03<00:00,  1.09s/it]"
     ]
    },
    {
     "name": "stdout",
     "output_type": "stream",
     "text": [
      "Saving to directory: C:\\Users\\ASUS\\OneDrive\\Desktop\\Mura\\cam_visualizations_all_parts\\XR_FOREARM\\abnormal\\actual\n",
      "Saved original to: C:\\Users\\ASUS\\OneDrive\\Desktop\\Mura\\cam_visualizations_all_parts\\XR_FOREARM\\abnormal\\actual\\XR_FOREARM_abnormal_actual_2_20250723_125412_original.png\n",
      "Saved heatmap to: C:\\Users\\ASUS\\OneDrive\\Desktop\\Mura\\cam_visualizations_all_parts\\XR_FOREARM\\abnormal\\actual\\XR_FOREARM_abnormal_actual_2_20250723_125412_heatmap.png\n",
      "Saved overlay to: C:\\Users\\ASUS\\OneDrive\\Desktop\\Mura\\cam_visualizations_all_parts\\XR_FOREARM\\abnormal\\actual\\XR_FOREARM_abnormal_actual_2_20250723_125412_cam_overlay.png\n",
      "\n",
      "============================================================\n",
      "Processing XR_HAND\n",
      "============================================================\n"
     ]
    },
    {
     "name": "stderr",
     "output_type": "stream",
     "text": [
      "\n"
     ]
    },
    {
     "name": "stdout",
     "output_type": "stream",
     "text": [
      "✅ Model loaded successfully for XR_HAND\n",
      "\n",
      "📊 Processing normal cases for XR_HAND...\n",
      "📁 Found 3 normal images for XR_HAND\n"
     ]
    },
    {
     "name": "stderr",
     "output_type": "stream",
     "text": [
      "Generating normal CAMs:   0%|                                                                    | 0/3 [00:00<?, ?it/s]"
     ]
    },
    {
     "name": "stdout",
     "output_type": "stream",
     "text": [
      "Saving to directory: C:\\Users\\ASUS\\OneDrive\\Desktop\\Mura\\cam_visualizations_all_parts\\XR_HAND\\normal\\predicted\n",
      "Saved original to: C:\\Users\\ASUS\\OneDrive\\Desktop\\Mura\\cam_visualizations_all_parts\\XR_HAND\\normal\\predicted\\XR_HAND_normal_predicted_0_20250723_125415_original.png\n",
      "Saved heatmap to: C:\\Users\\ASUS\\OneDrive\\Desktop\\Mura\\cam_visualizations_all_parts\\XR_HAND\\normal\\predicted\\XR_HAND_normal_predicted_0_20250723_125415_heatmap.png\n",
      "Saved overlay to: C:\\Users\\ASUS\\OneDrive\\Desktop\\Mura\\cam_visualizations_all_parts\\XR_HAND\\normal\\predicted\\XR_HAND_normal_predicted_0_20250723_125415_cam_overlay.png\n"
     ]
    },
    {
     "name": "stderr",
     "output_type": "stream",
     "text": [
      "Generating normal CAMs:  33%|████████████████████                                        | 1/3 [00:04<00:08,  4.29s/it]"
     ]
    },
    {
     "name": "stdout",
     "output_type": "stream",
     "text": [
      "Saving to directory: C:\\Users\\ASUS\\OneDrive\\Desktop\\Mura\\cam_visualizations_all_parts\\XR_HAND\\normal\\actual\n",
      "Saved original to: C:\\Users\\ASUS\\OneDrive\\Desktop\\Mura\\cam_visualizations_all_parts\\XR_HAND\\normal\\actual\\XR_HAND_normal_actual_0_20250723_125417_original.png\n",
      "Saved heatmap to: C:\\Users\\ASUS\\OneDrive\\Desktop\\Mura\\cam_visualizations_all_parts\\XR_HAND\\normal\\actual\\XR_HAND_normal_actual_0_20250723_125417_heatmap.png\n",
      "Saved overlay to: C:\\Users\\ASUS\\OneDrive\\Desktop\\Mura\\cam_visualizations_all_parts\\XR_HAND\\normal\\actual\\XR_HAND_normal_actual_0_20250723_125417_cam_overlay.png\n",
      "Saving to directory: C:\\Users\\ASUS\\OneDrive\\Desktop\\Mura\\cam_visualizations_all_parts\\XR_HAND\\normal\\predicted\n",
      "Saved original to: C:\\Users\\ASUS\\OneDrive\\Desktop\\Mura\\cam_visualizations_all_parts\\XR_HAND\\normal\\predicted\\XR_HAND_normal_predicted_1_20250723_125420_original.png\n",
      "Saved heatmap to: C:\\Users\\ASUS\\OneDrive\\Desktop\\Mura\\cam_visualizations_all_parts\\XR_HAND\\normal\\predicted\\XR_HAND_normal_predicted_1_20250723_125420_heatmap.png\n",
      "Saved overlay to: C:\\Users\\ASUS\\OneDrive\\Desktop\\Mura\\cam_visualizations_all_parts\\XR_HAND\\normal\\predicted\\XR_HAND_normal_predicted_1_20250723_125420_cam_overlay.png\n"
     ]
    },
    {
     "name": "stderr",
     "output_type": "stream",
     "text": [
      "Generating normal CAMs:  67%|████████████████████████████████████████                    | 2/3 [00:08<00:04,  4.31s/it]"
     ]
    },
    {
     "name": "stdout",
     "output_type": "stream",
     "text": [
      "Saving to directory: C:\\Users\\ASUS\\OneDrive\\Desktop\\Mura\\cam_visualizations_all_parts\\XR_HAND\\normal\\actual\n",
      "Saved original to: C:\\Users\\ASUS\\OneDrive\\Desktop\\Mura\\cam_visualizations_all_parts\\XR_HAND\\normal\\actual\\XR_HAND_normal_actual_1_20250723_125421_original.png\n",
      "Saved heatmap to: C:\\Users\\ASUS\\OneDrive\\Desktop\\Mura\\cam_visualizations_all_parts\\XR_HAND\\normal\\actual\\XR_HAND_normal_actual_1_20250723_125421_heatmap.png\n",
      "Saved overlay to: C:\\Users\\ASUS\\OneDrive\\Desktop\\Mura\\cam_visualizations_all_parts\\XR_HAND\\normal\\actual\\XR_HAND_normal_actual_1_20250723_125421_cam_overlay.png\n",
      "Saving to directory: C:\\Users\\ASUS\\OneDrive\\Desktop\\Mura\\cam_visualizations_all_parts\\XR_HAND\\normal\\predicted\n",
      "Saved original to: C:\\Users\\ASUS\\OneDrive\\Desktop\\Mura\\cam_visualizations_all_parts\\XR_HAND\\normal\\predicted\\XR_HAND_normal_predicted_2_20250723_125424_original.png\n",
      "Saved heatmap to: C:\\Users\\ASUS\\OneDrive\\Desktop\\Mura\\cam_visualizations_all_parts\\XR_HAND\\normal\\predicted\\XR_HAND_normal_predicted_2_20250723_125424_heatmap.png\n",
      "Saved overlay to: C:\\Users\\ASUS\\OneDrive\\Desktop\\Mura\\cam_visualizations_all_parts\\XR_HAND\\normal\\predicted\\XR_HAND_normal_predicted_2_20250723_125424_cam_overlay.png\n"
     ]
    },
    {
     "name": "stderr",
     "output_type": "stream",
     "text": [
      "Generating normal CAMs: 100%|████████████████████████████████████████████████████████████| 3/3 [00:13<00:00,  4.35s/it]\n"
     ]
    },
    {
     "name": "stdout",
     "output_type": "stream",
     "text": [
      "Saving to directory: C:\\Users\\ASUS\\OneDrive\\Desktop\\Mura\\cam_visualizations_all_parts\\XR_HAND\\normal\\actual\n",
      "Saved original to: C:\\Users\\ASUS\\OneDrive\\Desktop\\Mura\\cam_visualizations_all_parts\\XR_HAND\\normal\\actual\\XR_HAND_normal_actual_2_20250723_125426_original.png\n",
      "Saved heatmap to: C:\\Users\\ASUS\\OneDrive\\Desktop\\Mura\\cam_visualizations_all_parts\\XR_HAND\\normal\\actual\\XR_HAND_normal_actual_2_20250723_125426_heatmap.png\n",
      "Saved overlay to: C:\\Users\\ASUS\\OneDrive\\Desktop\\Mura\\cam_visualizations_all_parts\\XR_HAND\\normal\\actual\\XR_HAND_normal_actual_2_20250723_125426_cam_overlay.png\n",
      "\n",
      "📊 Processing abnormal cases for XR_HAND...\n",
      "📁 Found 3 abnormal images for XR_HAND\n"
     ]
    },
    {
     "name": "stderr",
     "output_type": "stream",
     "text": [
      "Generating abnormal CAMs:   0%|                                                                  | 0/3 [00:00<?, ?it/s]"
     ]
    },
    {
     "name": "stdout",
     "output_type": "stream",
     "text": [
      "Saving to directory: C:\\Users\\ASUS\\OneDrive\\Desktop\\Mura\\cam_visualizations_all_parts\\XR_HAND\\abnormal\\predicted\n",
      "Saved original to: C:\\Users\\ASUS\\OneDrive\\Desktop\\Mura\\cam_visualizations_all_parts\\XR_HAND\\abnormal\\predicted\\XR_HAND_abnormal_predicted_0_20250723_125428_original.png\n",
      "Saved heatmap to: C:\\Users\\ASUS\\OneDrive\\Desktop\\Mura\\cam_visualizations_all_parts\\XR_HAND\\abnormal\\predicted\\XR_HAND_abnormal_predicted_0_20250723_125428_heatmap.png\n",
      "Saved overlay to: C:\\Users\\ASUS\\OneDrive\\Desktop\\Mura\\cam_visualizations_all_parts\\XR_HAND\\abnormal\\predicted\\XR_HAND_abnormal_predicted_0_20250723_125428_cam_overlay.png\n"
     ]
    },
    {
     "name": "stderr",
     "output_type": "stream",
     "text": [
      "Generating abnormal CAMs:  33%|███████████████████▎                                      | 1/3 [00:04<00:08,  4.13s/it]"
     ]
    },
    {
     "name": "stdout",
     "output_type": "stream",
     "text": [
      "Saving to directory: C:\\Users\\ASUS\\OneDrive\\Desktop\\Mura\\cam_visualizations_all_parts\\XR_HAND\\abnormal\\actual\n",
      "Saved original to: C:\\Users\\ASUS\\OneDrive\\Desktop\\Mura\\cam_visualizations_all_parts\\XR_HAND\\abnormal\\actual\\XR_HAND_abnormal_actual_0_20250723_125430_original.png\n",
      "Saved heatmap to: C:\\Users\\ASUS\\OneDrive\\Desktop\\Mura\\cam_visualizations_all_parts\\XR_HAND\\abnormal\\actual\\XR_HAND_abnormal_actual_0_20250723_125430_heatmap.png\n",
      "Saved overlay to: C:\\Users\\ASUS\\OneDrive\\Desktop\\Mura\\cam_visualizations_all_parts\\XR_HAND\\abnormal\\actual\\XR_HAND_abnormal_actual_0_20250723_125430_cam_overlay.png\n",
      "Saving to directory: C:\\Users\\ASUS\\OneDrive\\Desktop\\Mura\\cam_visualizations_all_parts\\XR_HAND\\abnormal\\predicted\n",
      "Saved original to: C:\\Users\\ASUS\\OneDrive\\Desktop\\Mura\\cam_visualizations_all_parts\\XR_HAND\\abnormal\\predicted\\XR_HAND_abnormal_predicted_1_20250723_125433_original.png\n",
      "Saved heatmap to: C:\\Users\\ASUS\\OneDrive\\Desktop\\Mura\\cam_visualizations_all_parts\\XR_HAND\\abnormal\\predicted\\XR_HAND_abnormal_predicted_1_20250723_125433_heatmap.png\n",
      "Saved overlay to: C:\\Users\\ASUS\\OneDrive\\Desktop\\Mura\\cam_visualizations_all_parts\\XR_HAND\\abnormal\\predicted\\XR_HAND_abnormal_predicted_1_20250723_125433_cam_overlay.png\n"
     ]
    },
    {
     "name": "stderr",
     "output_type": "stream",
     "text": [
      "Generating abnormal CAMs:  67%|██████████████████████████████████████▋                   | 2/3 [00:08<00:04,  4.10s/it]"
     ]
    },
    {
     "name": "stdout",
     "output_type": "stream",
     "text": [
      "Saving to directory: C:\\Users\\ASUS\\OneDrive\\Desktop\\Mura\\cam_visualizations_all_parts\\XR_HAND\\abnormal\\actual\n",
      "Saved original to: C:\\Users\\ASUS\\OneDrive\\Desktop\\Mura\\cam_visualizations_all_parts\\XR_HAND\\abnormal\\actual\\XR_HAND_abnormal_actual_1_20250723_125434_original.png\n",
      "Saved heatmap to: C:\\Users\\ASUS\\OneDrive\\Desktop\\Mura\\cam_visualizations_all_parts\\XR_HAND\\abnormal\\actual\\XR_HAND_abnormal_actual_1_20250723_125434_heatmap.png\n",
      "Saved overlay to: C:\\Users\\ASUS\\OneDrive\\Desktop\\Mura\\cam_visualizations_all_parts\\XR_HAND\\abnormal\\actual\\XR_HAND_abnormal_actual_1_20250723_125434_cam_overlay.png\n",
      "Saving to directory: C:\\Users\\ASUS\\OneDrive\\Desktop\\Mura\\cam_visualizations_all_parts\\XR_HAND\\abnormal\\predicted\n",
      "Saved original to: C:\\Users\\ASUS\\OneDrive\\Desktop\\Mura\\cam_visualizations_all_parts\\XR_HAND\\abnormal\\predicted\\XR_HAND_abnormal_predicted_2_20250723_125436_original.png\n",
      "Saved heatmap to: C:\\Users\\ASUS\\OneDrive\\Desktop\\Mura\\cam_visualizations_all_parts\\XR_HAND\\abnormal\\predicted\\XR_HAND_abnormal_predicted_2_20250723_125436_heatmap.png\n",
      "Saved overlay to: C:\\Users\\ASUS\\OneDrive\\Desktop\\Mura\\cam_visualizations_all_parts\\XR_HAND\\abnormal\\predicted\\XR_HAND_abnormal_predicted_2_20250723_125436_cam_overlay.png\n"
     ]
    },
    {
     "name": "stderr",
     "output_type": "stream",
     "text": [
      "Generating abnormal CAMs: 100%|██████████████████████████████████████████████████████████| 3/3 [00:12<00:00,  4.21s/it]"
     ]
    },
    {
     "name": "stdout",
     "output_type": "stream",
     "text": [
      "Saving to directory: C:\\Users\\ASUS\\OneDrive\\Desktop\\Mura\\cam_visualizations_all_parts\\XR_HAND\\abnormal\\actual\n",
      "Saved original to: C:\\Users\\ASUS\\OneDrive\\Desktop\\Mura\\cam_visualizations_all_parts\\XR_HAND\\abnormal\\actual\\XR_HAND_abnormal_actual_2_20250723_125438_original.png\n",
      "Saved heatmap to: C:\\Users\\ASUS\\OneDrive\\Desktop\\Mura\\cam_visualizations_all_parts\\XR_HAND\\abnormal\\actual\\XR_HAND_abnormal_actual_2_20250723_125438_heatmap.png\n",
      "Saved overlay to: C:\\Users\\ASUS\\OneDrive\\Desktop\\Mura\\cam_visualizations_all_parts\\XR_HAND\\abnormal\\actual\\XR_HAND_abnormal_actual_2_20250723_125438_cam_overlay.png\n",
      "\n",
      "============================================================\n",
      "Processing XR_HUMERUS\n",
      "============================================================\n"
     ]
    },
    {
     "name": "stderr",
     "output_type": "stream",
     "text": [
      "\n"
     ]
    },
    {
     "name": "stdout",
     "output_type": "stream",
     "text": [
      "✅ Model loaded successfully for XR_HUMERUS\n",
      "\n",
      "📊 Processing normal cases for XR_HUMERUS...\n",
      "📁 Found 3 normal images for XR_HUMERUS\n"
     ]
    },
    {
     "name": "stderr",
     "output_type": "stream",
     "text": [
      "Generating normal CAMs:   0%|                                                                    | 0/3 [00:00<?, ?it/s]"
     ]
    },
    {
     "name": "stdout",
     "output_type": "stream",
     "text": [
      "Saving to directory: C:\\Users\\ASUS\\OneDrive\\Desktop\\Mura\\cam_visualizations_all_parts\\XR_HUMERUS\\normal\\predicted\n",
      "Saved original to: C:\\Users\\ASUS\\OneDrive\\Desktop\\Mura\\cam_visualizations_all_parts\\XR_HUMERUS\\normal\\predicted\\XR_HUMERUS_normal_predicted_0_20250723_125439_original.png\n",
      "Saved heatmap to: C:\\Users\\ASUS\\OneDrive\\Desktop\\Mura\\cam_visualizations_all_parts\\XR_HUMERUS\\normal\\predicted\\XR_HUMERUS_normal_predicted_0_20250723_125439_heatmap.png\n",
      "Saved overlay to: C:\\Users\\ASUS\\OneDrive\\Desktop\\Mura\\cam_visualizations_all_parts\\XR_HUMERUS\\normal\\predicted\\XR_HUMERUS_normal_predicted_0_20250723_125439_cam_overlay.png\n"
     ]
    },
    {
     "name": "stderr",
     "output_type": "stream",
     "text": [
      "Generating normal CAMs:  33%|████████████████████                                        | 1/3 [00:00<00:01,  1.62it/s]"
     ]
    },
    {
     "name": "stdout",
     "output_type": "stream",
     "text": [
      "Saving to directory: C:\\Users\\ASUS\\OneDrive\\Desktop\\Mura\\cam_visualizations_all_parts\\XR_HUMERUS\\normal\\actual\n",
      "Saved original to: C:\\Users\\ASUS\\OneDrive\\Desktop\\Mura\\cam_visualizations_all_parts\\XR_HUMERUS\\normal\\actual\\XR_HUMERUS_normal_actual_0_20250723_125439_original.png\n",
      "Saved heatmap to: C:\\Users\\ASUS\\OneDrive\\Desktop\\Mura\\cam_visualizations_all_parts\\XR_HUMERUS\\normal\\actual\\XR_HUMERUS_normal_actual_0_20250723_125439_heatmap.png\n",
      "Saved overlay to: C:\\Users\\ASUS\\OneDrive\\Desktop\\Mura\\cam_visualizations_all_parts\\XR_HUMERUS\\normal\\actual\\XR_HUMERUS_normal_actual_0_20250723_125439_cam_overlay.png\n",
      "Saving to directory: C:\\Users\\ASUS\\OneDrive\\Desktop\\Mura\\cam_visualizations_all_parts\\XR_HUMERUS\\normal\\predicted\n",
      "Saved original to: C:\\Users\\ASUS\\OneDrive\\Desktop\\Mura\\cam_visualizations_all_parts\\XR_HUMERUS\\normal\\predicted\\XR_HUMERUS_normal_predicted_1_20250723_125440_original.png\n",
      "Saved heatmap to: C:\\Users\\ASUS\\OneDrive\\Desktop\\Mura\\cam_visualizations_all_parts\\XR_HUMERUS\\normal\\predicted\\XR_HUMERUS_normal_predicted_1_20250723_125440_heatmap.png\n",
      "Saved overlay to: C:\\Users\\ASUS\\OneDrive\\Desktop\\Mura\\cam_visualizations_all_parts\\XR_HUMERUS\\normal\\predicted\\XR_HUMERUS_normal_predicted_1_20250723_125440_cam_overlay.png\n",
      "Saving to directory: C:\\Users\\ASUS\\OneDrive\\Desktop\\Mura\\cam_visualizations_all_parts\\XR_HUMERUS\\normal\\actual\n",
      "Saved original to: C:\\Users\\ASUS\\OneDrive\\Desktop\\Mura\\cam_visualizations_all_parts\\XR_HUMERUS\\normal\\actual\\XR_HUMERUS_normal_actual_1_20250723_125440_original.png\n"
     ]
    },
    {
     "name": "stderr",
     "output_type": "stream",
     "text": [
      "Generating normal CAMs:  67%|████████████████████████████████████████                    | 2/3 [00:01<00:00,  1.91it/s]"
     ]
    },
    {
     "name": "stdout",
     "output_type": "stream",
     "text": [
      "Saved heatmap to: C:\\Users\\ASUS\\OneDrive\\Desktop\\Mura\\cam_visualizations_all_parts\\XR_HUMERUS\\normal\\actual\\XR_HUMERUS_normal_actual_1_20250723_125440_heatmap.png\n",
      "Saved overlay to: C:\\Users\\ASUS\\OneDrive\\Desktop\\Mura\\cam_visualizations_all_parts\\XR_HUMERUS\\normal\\actual\\XR_HUMERUS_normal_actual_1_20250723_125440_cam_overlay.png\n",
      "Saving to directory: C:\\Users\\ASUS\\OneDrive\\Desktop\\Mura\\cam_visualizations_all_parts\\XR_HUMERUS\\normal\\predicted\n",
      "Saved original to: C:\\Users\\ASUS\\OneDrive\\Desktop\\Mura\\cam_visualizations_all_parts\\XR_HUMERUS\\normal\\predicted\\XR_HUMERUS_normal_predicted_2_20250723_125440_original.png\n",
      "Saved heatmap to: C:\\Users\\ASUS\\OneDrive\\Desktop\\Mura\\cam_visualizations_all_parts\\XR_HUMERUS\\normal\\predicted\\XR_HUMERUS_normal_predicted_2_20250723_125440_heatmap.png\n",
      "Saved overlay to: C:\\Users\\ASUS\\OneDrive\\Desktop\\Mura\\cam_visualizations_all_parts\\XR_HUMERUS\\normal\\predicted\\XR_HUMERUS_normal_predicted_2_20250723_125440_cam_overlay.png\n"
     ]
    },
    {
     "name": "stderr",
     "output_type": "stream",
     "text": [
      "Generating normal CAMs: 100%|████████████████████████████████████████████████████████████| 3/3 [00:01<00:00,  1.72it/s]\n"
     ]
    },
    {
     "name": "stdout",
     "output_type": "stream",
     "text": [
      "Saving to directory: C:\\Users\\ASUS\\OneDrive\\Desktop\\Mura\\cam_visualizations_all_parts\\XR_HUMERUS\\normal\\actual\n",
      "Saved original to: C:\\Users\\ASUS\\OneDrive\\Desktop\\Mura\\cam_visualizations_all_parts\\XR_HUMERUS\\normal\\actual\\XR_HUMERUS_normal_actual_2_20250723_125440_original.png\n",
      "Saved heatmap to: C:\\Users\\ASUS\\OneDrive\\Desktop\\Mura\\cam_visualizations_all_parts\\XR_HUMERUS\\normal\\actual\\XR_HUMERUS_normal_actual_2_20250723_125440_heatmap.png\n",
      "Saved overlay to: C:\\Users\\ASUS\\OneDrive\\Desktop\\Mura\\cam_visualizations_all_parts\\XR_HUMERUS\\normal\\actual\\XR_HUMERUS_normal_actual_2_20250723_125440_cam_overlay.png\n",
      "\n",
      "📊 Processing abnormal cases for XR_HUMERUS...\n",
      "📁 Found 3 abnormal images for XR_HUMERUS\n"
     ]
    },
    {
     "name": "stderr",
     "output_type": "stream",
     "text": [
      "Generating abnormal CAMs:   0%|                                                                  | 0/3 [00:00<?, ?it/s]"
     ]
    },
    {
     "name": "stdout",
     "output_type": "stream",
     "text": [
      "Saving to directory: C:\\Users\\ASUS\\OneDrive\\Desktop\\Mura\\cam_visualizations_all_parts\\XR_HUMERUS\\abnormal\\predicted\n",
      "Saved original to: C:\\Users\\ASUS\\OneDrive\\Desktop\\Mura\\cam_visualizations_all_parts\\XR_HUMERUS\\abnormal\\predicted\\XR_HUMERUS_abnormal_predicted_0_20250723_125441_original.png\n",
      "Saved heatmap to: C:\\Users\\ASUS\\OneDrive\\Desktop\\Mura\\cam_visualizations_all_parts\\XR_HUMERUS\\abnormal\\predicted\\XR_HUMERUS_abnormal_predicted_0_20250723_125441_heatmap.png\n",
      "Saved overlay to: C:\\Users\\ASUS\\OneDrive\\Desktop\\Mura\\cam_visualizations_all_parts\\XR_HUMERUS\\abnormal\\predicted\\XR_HUMERUS_abnormal_predicted_0_20250723_125441_cam_overlay.png\n"
     ]
    },
    {
     "name": "stderr",
     "output_type": "stream",
     "text": [
      "Generating abnormal CAMs:  33%|███████████████████▎                                      | 1/3 [00:00<00:01,  1.58it/s]"
     ]
    },
    {
     "name": "stdout",
     "output_type": "stream",
     "text": [
      "Saving to directory: C:\\Users\\ASUS\\OneDrive\\Desktop\\Mura\\cam_visualizations_all_parts\\XR_HUMERUS\\abnormal\\actual\n",
      "Saved original to: C:\\Users\\ASUS\\OneDrive\\Desktop\\Mura\\cam_visualizations_all_parts\\XR_HUMERUS\\abnormal\\actual\\XR_HUMERUS_abnormal_actual_0_20250723_125441_original.png\n",
      "Saved heatmap to: C:\\Users\\ASUS\\OneDrive\\Desktop\\Mura\\cam_visualizations_all_parts\\XR_HUMERUS\\abnormal\\actual\\XR_HUMERUS_abnormal_actual_0_20250723_125441_heatmap.png\n",
      "Saved overlay to: C:\\Users\\ASUS\\OneDrive\\Desktop\\Mura\\cam_visualizations_all_parts\\XR_HUMERUS\\abnormal\\actual\\XR_HUMERUS_abnormal_actual_0_20250723_125441_cam_overlay.png\n",
      "Saving to directory: C:\\Users\\ASUS\\OneDrive\\Desktop\\Mura\\cam_visualizations_all_parts\\XR_HUMERUS\\abnormal\\predicted\n",
      "Saved original to: C:\\Users\\ASUS\\OneDrive\\Desktop\\Mura\\cam_visualizations_all_parts\\XR_HUMERUS\\abnormal\\predicted\\XR_HUMERUS_abnormal_predicted_1_20250723_125441_original.png\n",
      "Saved heatmap to: C:\\Users\\ASUS\\OneDrive\\Desktop\\Mura\\cam_visualizations_all_parts\\XR_HUMERUS\\abnormal\\predicted\\XR_HUMERUS_abnormal_predicted_1_20250723_125441_heatmap.png\n",
      "Saved overlay to: C:\\Users\\ASUS\\OneDrive\\Desktop\\Mura\\cam_visualizations_all_parts\\XR_HUMERUS\\abnormal\\predicted\\XR_HUMERUS_abnormal_predicted_1_20250723_125441_cam_overlay.png\n"
     ]
    },
    {
     "name": "stderr",
     "output_type": "stream",
     "text": [
      "Generating abnormal CAMs:  67%|██████████████████████████████████████▋                   | 2/3 [00:01<00:00,  1.55it/s]"
     ]
    },
    {
     "name": "stdout",
     "output_type": "stream",
     "text": [
      "Saving to directory: C:\\Users\\ASUS\\OneDrive\\Desktop\\Mura\\cam_visualizations_all_parts\\XR_HUMERUS\\abnormal\\actual\n",
      "Saved original to: C:\\Users\\ASUS\\OneDrive\\Desktop\\Mura\\cam_visualizations_all_parts\\XR_HUMERUS\\abnormal\\actual\\XR_HUMERUS_abnormal_actual_1_20250723_125442_original.png\n",
      "Saved heatmap to: C:\\Users\\ASUS\\OneDrive\\Desktop\\Mura\\cam_visualizations_all_parts\\XR_HUMERUS\\abnormal\\actual\\XR_HUMERUS_abnormal_actual_1_20250723_125442_heatmap.png\n",
      "Saved overlay to: C:\\Users\\ASUS\\OneDrive\\Desktop\\Mura\\cam_visualizations_all_parts\\XR_HUMERUS\\abnormal\\actual\\XR_HUMERUS_abnormal_actual_1_20250723_125442_cam_overlay.png\n",
      "Saving to directory: C:\\Users\\ASUS\\OneDrive\\Desktop\\Mura\\cam_visualizations_all_parts\\XR_HUMERUS\\abnormal\\predicted\n",
      "Saved original to: C:\\Users\\ASUS\\OneDrive\\Desktop\\Mura\\cam_visualizations_all_parts\\XR_HUMERUS\\abnormal\\predicted\\XR_HUMERUS_abnormal_predicted_2_20250723_125442_original.png\n",
      "Saved heatmap to: C:\\Users\\ASUS\\OneDrive\\Desktop\\Mura\\cam_visualizations_all_parts\\XR_HUMERUS\\abnormal\\predicted\\XR_HUMERUS_abnormal_predicted_2_20250723_125442_heatmap.png\n",
      "Saved overlay to: C:\\Users\\ASUS\\OneDrive\\Desktop\\Mura\\cam_visualizations_all_parts\\XR_HUMERUS\\abnormal\\predicted\\XR_HUMERUS_abnormal_predicted_2_20250723_125442_cam_overlay.png\n"
     ]
    },
    {
     "name": "stderr",
     "output_type": "stream",
     "text": [
      "Generating abnormal CAMs: 100%|██████████████████████████████████████████████████████████| 3/3 [00:01<00:00,  1.51it/s]"
     ]
    },
    {
     "name": "stdout",
     "output_type": "stream",
     "text": [
      "Saving to directory: C:\\Users\\ASUS\\OneDrive\\Desktop\\Mura\\cam_visualizations_all_parts\\XR_HUMERUS\\abnormal\\actual\n",
      "Saved original to: C:\\Users\\ASUS\\OneDrive\\Desktop\\Mura\\cam_visualizations_all_parts\\XR_HUMERUS\\abnormal\\actual\\XR_HUMERUS_abnormal_actual_2_20250723_125442_original.png\n",
      "Saved heatmap to: C:\\Users\\ASUS\\OneDrive\\Desktop\\Mura\\cam_visualizations_all_parts\\XR_HUMERUS\\abnormal\\actual\\XR_HUMERUS_abnormal_actual_2_20250723_125442_heatmap.png\n",
      "Saved overlay to: C:\\Users\\ASUS\\OneDrive\\Desktop\\Mura\\cam_visualizations_all_parts\\XR_HUMERUS\\abnormal\\actual\\XR_HUMERUS_abnormal_actual_2_20250723_125442_cam_overlay.png\n",
      "\n",
      "============================================================\n",
      "Processing XR_SHOULDER\n",
      "============================================================\n"
     ]
    },
    {
     "name": "stderr",
     "output_type": "stream",
     "text": [
      "\n"
     ]
    },
    {
     "name": "stdout",
     "output_type": "stream",
     "text": [
      "✅ Model loaded successfully for XR_SHOULDER\n",
      "\n",
      "📊 Processing normal cases for XR_SHOULDER...\n",
      "📁 Found 3 normal images for XR_SHOULDER\n"
     ]
    },
    {
     "name": "stderr",
     "output_type": "stream",
     "text": [
      "Generating normal CAMs:   0%|                                                                    | 0/3 [00:00<?, ?it/s]"
     ]
    },
    {
     "name": "stdout",
     "output_type": "stream",
     "text": [
      "Saving to directory: C:\\Users\\ASUS\\OneDrive\\Desktop\\Mura\\cam_visualizations_all_parts\\XR_SHOULDER\\normal\\predicted\n",
      "Saved original to: C:\\Users\\ASUS\\OneDrive\\Desktop\\Mura\\cam_visualizations_all_parts\\XR_SHOULDER\\normal\\predicted\\XR_SHOULDER_normal_predicted_0_20250723_125445_original.png\n",
      "Saved heatmap to: C:\\Users\\ASUS\\OneDrive\\Desktop\\Mura\\cam_visualizations_all_parts\\XR_SHOULDER\\normal\\predicted\\XR_SHOULDER_normal_predicted_0_20250723_125445_heatmap.png\n",
      "Saved overlay to: C:\\Users\\ASUS\\OneDrive\\Desktop\\Mura\\cam_visualizations_all_parts\\XR_SHOULDER\\normal\\predicted\\XR_SHOULDER_normal_predicted_0_20250723_125445_cam_overlay.png\n"
     ]
    },
    {
     "name": "stderr",
     "output_type": "stream",
     "text": [
      "Generating normal CAMs:  33%|████████████████████                                        | 1/3 [00:04<00:08,  4.31s/it]"
     ]
    },
    {
     "name": "stdout",
     "output_type": "stream",
     "text": [
      "Saving to directory: C:\\Users\\ASUS\\OneDrive\\Desktop\\Mura\\cam_visualizations_all_parts\\XR_SHOULDER\\normal\\actual\n",
      "Saved original to: C:\\Users\\ASUS\\OneDrive\\Desktop\\Mura\\cam_visualizations_all_parts\\XR_SHOULDER\\normal\\actual\\XR_SHOULDER_normal_actual_0_20250723_125447_original.png\n",
      "Saved heatmap to: C:\\Users\\ASUS\\OneDrive\\Desktop\\Mura\\cam_visualizations_all_parts\\XR_SHOULDER\\normal\\actual\\XR_SHOULDER_normal_actual_0_20250723_125447_heatmap.png\n",
      "Saved overlay to: C:\\Users\\ASUS\\OneDrive\\Desktop\\Mura\\cam_visualizations_all_parts\\XR_SHOULDER\\normal\\actual\\XR_SHOULDER_normal_actual_0_20250723_125447_cam_overlay.png\n",
      "Saving to directory: C:\\Users\\ASUS\\OneDrive\\Desktop\\Mura\\cam_visualizations_all_parts\\XR_SHOULDER\\normal\\predicted\n",
      "Saved original to: C:\\Users\\ASUS\\OneDrive\\Desktop\\Mura\\cam_visualizations_all_parts\\XR_SHOULDER\\normal\\predicted\\XR_SHOULDER_normal_predicted_1_20250723_125450_original.png\n",
      "Saved heatmap to: C:\\Users\\ASUS\\OneDrive\\Desktop\\Mura\\cam_visualizations_all_parts\\XR_SHOULDER\\normal\\predicted\\XR_SHOULDER_normal_predicted_1_20250723_125450_heatmap.png\n",
      "Saved overlay to: C:\\Users\\ASUS\\OneDrive\\Desktop\\Mura\\cam_visualizations_all_parts\\XR_SHOULDER\\normal\\predicted\\XR_SHOULDER_normal_predicted_1_20250723_125450_cam_overlay.png\n"
     ]
    },
    {
     "name": "stderr",
     "output_type": "stream",
     "text": [
      "Generating normal CAMs:  67%|████████████████████████████████████████                    | 2/3 [00:09<00:04,  4.60s/it]"
     ]
    },
    {
     "name": "stdout",
     "output_type": "stream",
     "text": [
      "Saving to directory: C:\\Users\\ASUS\\OneDrive\\Desktop\\Mura\\cam_visualizations_all_parts\\XR_SHOULDER\\normal\\actual\n",
      "Saved original to: C:\\Users\\ASUS\\OneDrive\\Desktop\\Mura\\cam_visualizations_all_parts\\XR_SHOULDER\\normal\\actual\\XR_SHOULDER_normal_actual_1_20250723_125452_original.png\n",
      "Saved heatmap to: C:\\Users\\ASUS\\OneDrive\\Desktop\\Mura\\cam_visualizations_all_parts\\XR_SHOULDER\\normal\\actual\\XR_SHOULDER_normal_actual_1_20250723_125452_heatmap.png\n",
      "Saved overlay to: C:\\Users\\ASUS\\OneDrive\\Desktop\\Mura\\cam_visualizations_all_parts\\XR_SHOULDER\\normal\\actual\\XR_SHOULDER_normal_actual_1_20250723_125452_cam_overlay.png\n",
      "Saving to directory: C:\\Users\\ASUS\\OneDrive\\Desktop\\Mura\\cam_visualizations_all_parts\\XR_SHOULDER\\normal\\predicted\n",
      "Saved original to: C:\\Users\\ASUS\\OneDrive\\Desktop\\Mura\\cam_visualizations_all_parts\\XR_SHOULDER\\normal\\predicted\\XR_SHOULDER_normal_predicted_2_20250723_125454_original.png\n",
      "Saved heatmap to: C:\\Users\\ASUS\\OneDrive\\Desktop\\Mura\\cam_visualizations_all_parts\\XR_SHOULDER\\normal\\predicted\\XR_SHOULDER_normal_predicted_2_20250723_125454_heatmap.png\n",
      "Saved overlay to: C:\\Users\\ASUS\\OneDrive\\Desktop\\Mura\\cam_visualizations_all_parts\\XR_SHOULDER\\normal\\predicted\\XR_SHOULDER_normal_predicted_2_20250723_125454_cam_overlay.png\n"
     ]
    },
    {
     "name": "stderr",
     "output_type": "stream",
     "text": [
      "Generating normal CAMs: 100%|████████████████████████████████████████████████████████████| 3/3 [00:14<00:00,  4.70s/it]\n"
     ]
    },
    {
     "name": "stdout",
     "output_type": "stream",
     "text": [
      "Saving to directory: C:\\Users\\ASUS\\OneDrive\\Desktop\\Mura\\cam_visualizations_all_parts\\XR_SHOULDER\\normal\\actual\n",
      "Saved original to: C:\\Users\\ASUS\\OneDrive\\Desktop\\Mura\\cam_visualizations_all_parts\\XR_SHOULDER\\normal\\actual\\XR_SHOULDER_normal_actual_2_20250723_125457_original.png\n",
      "Saved heatmap to: C:\\Users\\ASUS\\OneDrive\\Desktop\\Mura\\cam_visualizations_all_parts\\XR_SHOULDER\\normal\\actual\\XR_SHOULDER_normal_actual_2_20250723_125457_heatmap.png\n",
      "Saved overlay to: C:\\Users\\ASUS\\OneDrive\\Desktop\\Mura\\cam_visualizations_all_parts\\XR_SHOULDER\\normal\\actual\\XR_SHOULDER_normal_actual_2_20250723_125457_cam_overlay.png\n",
      "\n",
      "📊 Processing abnormal cases for XR_SHOULDER...\n",
      "📁 Found 3 abnormal images for XR_SHOULDER\n"
     ]
    },
    {
     "name": "stderr",
     "output_type": "stream",
     "text": [
      "Generating abnormal CAMs:   0%|                                                                  | 0/3 [00:00<?, ?it/s]"
     ]
    },
    {
     "name": "stdout",
     "output_type": "stream",
     "text": [
      "Saving to directory: C:\\Users\\ASUS\\OneDrive\\Desktop\\Mura\\cam_visualizations_all_parts\\XR_SHOULDER\\abnormal\\predicted\n",
      "Saved original to: C:\\Users\\ASUS\\OneDrive\\Desktop\\Mura\\cam_visualizations_all_parts\\XR_SHOULDER\\abnormal\\predicted\\XR_SHOULDER_abnormal_predicted_0_20250723_125459_original.png\n",
      "Saved heatmap to: C:\\Users\\ASUS\\OneDrive\\Desktop\\Mura\\cam_visualizations_all_parts\\XR_SHOULDER\\abnormal\\predicted\\XR_SHOULDER_abnormal_predicted_0_20250723_125459_heatmap.png\n",
      "Saved overlay to: C:\\Users\\ASUS\\OneDrive\\Desktop\\Mura\\cam_visualizations_all_parts\\XR_SHOULDER\\abnormal\\predicted\\XR_SHOULDER_abnormal_predicted_0_20250723_125459_cam_overlay.png\n"
     ]
    },
    {
     "name": "stderr",
     "output_type": "stream",
     "text": [
      "Generating abnormal CAMs:  33%|███████████████████▎                                      | 1/3 [00:04<00:09,  4.62s/it]"
     ]
    },
    {
     "name": "stdout",
     "output_type": "stream",
     "text": [
      "Saving to directory: C:\\Users\\ASUS\\OneDrive\\Desktop\\Mura\\cam_visualizations_all_parts\\XR_SHOULDER\\abnormal\\actual\n",
      "Saved original to: C:\\Users\\ASUS\\OneDrive\\Desktop\\Mura\\cam_visualizations_all_parts\\XR_SHOULDER\\abnormal\\actual\\XR_SHOULDER_abnormal_actual_0_20250723_125501_original.png\n",
      "Saved heatmap to: C:\\Users\\ASUS\\OneDrive\\Desktop\\Mura\\cam_visualizations_all_parts\\XR_SHOULDER\\abnormal\\actual\\XR_SHOULDER_abnormal_actual_0_20250723_125501_heatmap.png\n",
      "Saved overlay to: C:\\Users\\ASUS\\OneDrive\\Desktop\\Mura\\cam_visualizations_all_parts\\XR_SHOULDER\\abnormal\\actual\\XR_SHOULDER_abnormal_actual_0_20250723_125501_cam_overlay.png\n",
      "Saving to directory: C:\\Users\\ASUS\\OneDrive\\Desktop\\Mura\\cam_visualizations_all_parts\\XR_SHOULDER\\abnormal\\predicted\n",
      "Saved original to: C:\\Users\\ASUS\\OneDrive\\Desktop\\Mura\\cam_visualizations_all_parts\\XR_SHOULDER\\abnormal\\predicted\\XR_SHOULDER_abnormal_predicted_1_20250723_125504_original.png\n",
      "Saved heatmap to: C:\\Users\\ASUS\\OneDrive\\Desktop\\Mura\\cam_visualizations_all_parts\\XR_SHOULDER\\abnormal\\predicted\\XR_SHOULDER_abnormal_predicted_1_20250723_125504_heatmap.png\n",
      "Saved overlay to: C:\\Users\\ASUS\\OneDrive\\Desktop\\Mura\\cam_visualizations_all_parts\\XR_SHOULDER\\abnormal\\predicted\\XR_SHOULDER_abnormal_predicted_1_20250723_125504_cam_overlay.png\n"
     ]
    },
    {
     "name": "stderr",
     "output_type": "stream",
     "text": [
      "Generating abnormal CAMs:  67%|██████████████████████████████████████▋                   | 2/3 [00:09<00:04,  4.88s/it]"
     ]
    },
    {
     "name": "stdout",
     "output_type": "stream",
     "text": [
      "Saving to directory: C:\\Users\\ASUS\\OneDrive\\Desktop\\Mura\\cam_visualizations_all_parts\\XR_SHOULDER\\abnormal\\actual\n",
      "Saved original to: C:\\Users\\ASUS\\OneDrive\\Desktop\\Mura\\cam_visualizations_all_parts\\XR_SHOULDER\\abnormal\\actual\\XR_SHOULDER_abnormal_actual_1_20250723_125506_original.png\n",
      "Saved heatmap to: C:\\Users\\ASUS\\OneDrive\\Desktop\\Mura\\cam_visualizations_all_parts\\XR_SHOULDER\\abnormal\\actual\\XR_SHOULDER_abnormal_actual_1_20250723_125506_heatmap.png\n",
      "Saved overlay to: C:\\Users\\ASUS\\OneDrive\\Desktop\\Mura\\cam_visualizations_all_parts\\XR_SHOULDER\\abnormal\\actual\\XR_SHOULDER_abnormal_actual_1_20250723_125506_cam_overlay.png\n",
      "Saving to directory: C:\\Users\\ASUS\\OneDrive\\Desktop\\Mura\\cam_visualizations_all_parts\\XR_SHOULDER\\abnormal\\predicted\n",
      "Saved original to: C:\\Users\\ASUS\\OneDrive\\Desktop\\Mura\\cam_visualizations_all_parts\\XR_SHOULDER\\abnormal\\predicted\\XR_SHOULDER_abnormal_predicted_2_20250723_125509_original.png\n",
      "Saved heatmap to: C:\\Users\\ASUS\\OneDrive\\Desktop\\Mura\\cam_visualizations_all_parts\\XR_SHOULDER\\abnormal\\predicted\\XR_SHOULDER_abnormal_predicted_2_20250723_125509_heatmap.png\n",
      "Saved overlay to: C:\\Users\\ASUS\\OneDrive\\Desktop\\Mura\\cam_visualizations_all_parts\\XR_SHOULDER\\abnormal\\predicted\\XR_SHOULDER_abnormal_predicted_2_20250723_125509_cam_overlay.png\n"
     ]
    },
    {
     "name": "stderr",
     "output_type": "stream",
     "text": [
      "Generating abnormal CAMs: 100%|██████████████████████████████████████████████████████████| 3/3 [00:13<00:00,  4.59s/it]"
     ]
    },
    {
     "name": "stdout",
     "output_type": "stream",
     "text": [
      "Saving to directory: C:\\Users\\ASUS\\OneDrive\\Desktop\\Mura\\cam_visualizations_all_parts\\XR_SHOULDER\\abnormal\\actual\n",
      "Saved original to: C:\\Users\\ASUS\\OneDrive\\Desktop\\Mura\\cam_visualizations_all_parts\\XR_SHOULDER\\abnormal\\actual\\XR_SHOULDER_abnormal_actual_2_20250723_125511_original.png\n",
      "Saved heatmap to: C:\\Users\\ASUS\\OneDrive\\Desktop\\Mura\\cam_visualizations_all_parts\\XR_SHOULDER\\abnormal\\actual\\XR_SHOULDER_abnormal_actual_2_20250723_125511_heatmap.png\n",
      "Saved overlay to: C:\\Users\\ASUS\\OneDrive\\Desktop\\Mura\\cam_visualizations_all_parts\\XR_SHOULDER\\abnormal\\actual\\XR_SHOULDER_abnormal_actual_2_20250723_125511_cam_overlay.png\n",
      "\n",
      "============================================================\n",
      "Processing XR_WRIST\n",
      "============================================================\n"
     ]
    },
    {
     "name": "stderr",
     "output_type": "stream",
     "text": [
      "\n"
     ]
    },
    {
     "name": "stdout",
     "output_type": "stream",
     "text": [
      "✅ Model loaded successfully for XR_WRIST\n",
      "\n",
      "📊 Processing normal cases for XR_WRIST...\n",
      "📁 Found 3 normal images for XR_WRIST\n"
     ]
    },
    {
     "name": "stderr",
     "output_type": "stream",
     "text": [
      "Generating normal CAMs:   0%|                                                                    | 0/3 [00:00<?, ?it/s]"
     ]
    },
    {
     "name": "stdout",
     "output_type": "stream",
     "text": [
      "Saving to directory: C:\\Users\\ASUS\\OneDrive\\Desktop\\Mura\\cam_visualizations_all_parts\\XR_WRIST\\normal\\predicted\n",
      "Saved original to: C:\\Users\\ASUS\\OneDrive\\Desktop\\Mura\\cam_visualizations_all_parts\\XR_WRIST\\normal\\predicted\\XR_WRIST_normal_predicted_0_20250723_125515_original.png\n",
      "Saved heatmap to: C:\\Users\\ASUS\\OneDrive\\Desktop\\Mura\\cam_visualizations_all_parts\\XR_WRIST\\normal\\predicted\\XR_WRIST_normal_predicted_0_20250723_125515_heatmap.png\n",
      "Saved overlay to: C:\\Users\\ASUS\\OneDrive\\Desktop\\Mura\\cam_visualizations_all_parts\\XR_WRIST\\normal\\predicted\\XR_WRIST_normal_predicted_0_20250723_125515_cam_overlay.png\n"
     ]
    },
    {
     "name": "stderr",
     "output_type": "stream",
     "text": [
      "Generating normal CAMs:  33%|████████████████████                                        | 1/3 [00:06<00:12,  6.11s/it]"
     ]
    },
    {
     "name": "stdout",
     "output_type": "stream",
     "text": [
      "Saving to directory: C:\\Users\\ASUS\\OneDrive\\Desktop\\Mura\\cam_visualizations_all_parts\\XR_WRIST\\normal\\actual\n",
      "Saved original to: C:\\Users\\ASUS\\OneDrive\\Desktop\\Mura\\cam_visualizations_all_parts\\XR_WRIST\\normal\\actual\\XR_WRIST_normal_actual_0_20250723_125517_original.png\n",
      "Saved heatmap to: C:\\Users\\ASUS\\OneDrive\\Desktop\\Mura\\cam_visualizations_all_parts\\XR_WRIST\\normal\\actual\\XR_WRIST_normal_actual_0_20250723_125517_heatmap.png\n",
      "Saved overlay to: C:\\Users\\ASUS\\OneDrive\\Desktop\\Mura\\cam_visualizations_all_parts\\XR_WRIST\\normal\\actual\\XR_WRIST_normal_actual_0_20250723_125517_cam_overlay.png\n",
      "Saving to directory: C:\\Users\\ASUS\\OneDrive\\Desktop\\Mura\\cam_visualizations_all_parts\\XR_WRIST\\normal\\predicted\n",
      "Saved original to: C:\\Users\\ASUS\\OneDrive\\Desktop\\Mura\\cam_visualizations_all_parts\\XR_WRIST\\normal\\predicted\\XR_WRIST_normal_predicted_1_20250723_125520_original.png\n",
      "Saved heatmap to: C:\\Users\\ASUS\\OneDrive\\Desktop\\Mura\\cam_visualizations_all_parts\\XR_WRIST\\normal\\predicted\\XR_WRIST_normal_predicted_1_20250723_125520_heatmap.png\n",
      "Saved overlay to: C:\\Users\\ASUS\\OneDrive\\Desktop\\Mura\\cam_visualizations_all_parts\\XR_WRIST\\normal\\predicted\\XR_WRIST_normal_predicted_1_20250723_125520_cam_overlay.png\n"
     ]
    },
    {
     "name": "stderr",
     "output_type": "stream",
     "text": [
      "Generating normal CAMs:  67%|████████████████████████████████████████                    | 2/3 [00:11<00:05,  5.93s/it]"
     ]
    },
    {
     "name": "stdout",
     "output_type": "stream",
     "text": [
      "Saving to directory: C:\\Users\\ASUS\\OneDrive\\Desktop\\Mura\\cam_visualizations_all_parts\\XR_WRIST\\normal\\actual\n",
      "Saved original to: C:\\Users\\ASUS\\OneDrive\\Desktop\\Mura\\cam_visualizations_all_parts\\XR_WRIST\\normal\\actual\\XR_WRIST_normal_actual_1_20250723_125523_original.png\n",
      "Saved heatmap to: C:\\Users\\ASUS\\OneDrive\\Desktop\\Mura\\cam_visualizations_all_parts\\XR_WRIST\\normal\\actual\\XR_WRIST_normal_actual_1_20250723_125523_heatmap.png\n",
      "Saved overlay to: C:\\Users\\ASUS\\OneDrive\\Desktop\\Mura\\cam_visualizations_all_parts\\XR_WRIST\\normal\\actual\\XR_WRIST_normal_actual_1_20250723_125523_cam_overlay.png\n",
      "Saving to directory: C:\\Users\\ASUS\\OneDrive\\Desktop\\Mura\\cam_visualizations_all_parts\\XR_WRIST\\normal\\predicted\n",
      "Saved original to: C:\\Users\\ASUS\\OneDrive\\Desktop\\Mura\\cam_visualizations_all_parts\\XR_WRIST\\normal\\predicted\\XR_WRIST_normal_predicted_2_20250723_125527_original.png\n",
      "Saved heatmap to: C:\\Users\\ASUS\\OneDrive\\Desktop\\Mura\\cam_visualizations_all_parts\\XR_WRIST\\normal\\predicted\\XR_WRIST_normal_predicted_2_20250723_125527_heatmap.png\n",
      "Saved overlay to: C:\\Users\\ASUS\\OneDrive\\Desktop\\Mura\\cam_visualizations_all_parts\\XR_WRIST\\normal\\predicted\\XR_WRIST_normal_predicted_2_20250723_125527_cam_overlay.png\n"
     ]
    },
    {
     "name": "stderr",
     "output_type": "stream",
     "text": [
      "Generating normal CAMs: 100%|████████████████████████████████████████████████████████████| 3/3 [00:17<00:00,  5.98s/it]\n"
     ]
    },
    {
     "name": "stdout",
     "output_type": "stream",
     "text": [
      "Saving to directory: C:\\Users\\ASUS\\OneDrive\\Desktop\\Mura\\cam_visualizations_all_parts\\XR_WRIST\\normal\\actual\n",
      "Saved original to: C:\\Users\\ASUS\\OneDrive\\Desktop\\Mura\\cam_visualizations_all_parts\\XR_WRIST\\normal\\actual\\XR_WRIST_normal_actual_2_20250723_125529_original.png\n",
      "Saved heatmap to: C:\\Users\\ASUS\\OneDrive\\Desktop\\Mura\\cam_visualizations_all_parts\\XR_WRIST\\normal\\actual\\XR_WRIST_normal_actual_2_20250723_125529_heatmap.png\n",
      "Saved overlay to: C:\\Users\\ASUS\\OneDrive\\Desktop\\Mura\\cam_visualizations_all_parts\\XR_WRIST\\normal\\actual\\XR_WRIST_normal_actual_2_20250723_125529_cam_overlay.png\n",
      "\n",
      "📊 Processing abnormal cases for XR_WRIST...\n",
      "📁 Found 3 abnormal images for XR_WRIST\n"
     ]
    },
    {
     "name": "stderr",
     "output_type": "stream",
     "text": [
      "Generating abnormal CAMs:   0%|                                                                  | 0/3 [00:00<?, ?it/s]"
     ]
    },
    {
     "name": "stdout",
     "output_type": "stream",
     "text": [
      "Saving to directory: C:\\Users\\ASUS\\OneDrive\\Desktop\\Mura\\cam_visualizations_all_parts\\XR_WRIST\\abnormal\\predicted\n",
      "Saved original to: C:\\Users\\ASUS\\OneDrive\\Desktop\\Mura\\cam_visualizations_all_parts\\XR_WRIST\\abnormal\\predicted\\XR_WRIST_abnormal_predicted_0_20250723_125532_original.png\n",
      "Saved heatmap to: C:\\Users\\ASUS\\OneDrive\\Desktop\\Mura\\cam_visualizations_all_parts\\XR_WRIST\\abnormal\\predicted\\XR_WRIST_abnormal_predicted_0_20250723_125532_heatmap.png\n",
      "Saved overlay to: C:\\Users\\ASUS\\OneDrive\\Desktop\\Mura\\cam_visualizations_all_parts\\XR_WRIST\\abnormal\\predicted\\XR_WRIST_abnormal_predicted_0_20250723_125532_cam_overlay.png\n"
     ]
    },
    {
     "name": "stderr",
     "output_type": "stream",
     "text": [
      "Generating abnormal CAMs:  33%|███████████████████▎                                      | 1/3 [00:05<00:11,  5.93s/it]"
     ]
    },
    {
     "name": "stdout",
     "output_type": "stream",
     "text": [
      "Saving to directory: C:\\Users\\ASUS\\OneDrive\\Desktop\\Mura\\cam_visualizations_all_parts\\XR_WRIST\\abnormal\\actual\n",
      "Saved original to: C:\\Users\\ASUS\\OneDrive\\Desktop\\Mura\\cam_visualizations_all_parts\\XR_WRIST\\abnormal\\actual\\XR_WRIST_abnormal_actual_0_20250723_125535_original.png\n",
      "Saved heatmap to: C:\\Users\\ASUS\\OneDrive\\Desktop\\Mura\\cam_visualizations_all_parts\\XR_WRIST\\abnormal\\actual\\XR_WRIST_abnormal_actual_0_20250723_125535_heatmap.png\n",
      "Saved overlay to: C:\\Users\\ASUS\\OneDrive\\Desktop\\Mura\\cam_visualizations_all_parts\\XR_WRIST\\abnormal\\actual\\XR_WRIST_abnormal_actual_0_20250723_125535_cam_overlay.png\n",
      "Saving to directory: C:\\Users\\ASUS\\OneDrive\\Desktop\\Mura\\cam_visualizations_all_parts\\XR_WRIST\\abnormal\\predicted\n",
      "Saved original to: C:\\Users\\ASUS\\OneDrive\\Desktop\\Mura\\cam_visualizations_all_parts\\XR_WRIST\\abnormal\\predicted\\XR_WRIST_abnormal_predicted_1_20250723_125539_original.png\n",
      "Saved heatmap to: C:\\Users\\ASUS\\OneDrive\\Desktop\\Mura\\cam_visualizations_all_parts\\XR_WRIST\\abnormal\\predicted\\XR_WRIST_abnormal_predicted_1_20250723_125539_heatmap.png\n",
      "Saved overlay to: C:\\Users\\ASUS\\OneDrive\\Desktop\\Mura\\cam_visualizations_all_parts\\XR_WRIST\\abnormal\\predicted\\XR_WRIST_abnormal_predicted_1_20250723_125539_cam_overlay.png\n"
     ]
    },
    {
     "name": "stderr",
     "output_type": "stream",
     "text": [
      "Generating abnormal CAMs:  67%|██████████████████████████████████████▋                   | 2/3 [00:12<00:06,  6.36s/it]"
     ]
    },
    {
     "name": "stdout",
     "output_type": "stream",
     "text": [
      "Saving to directory: C:\\Users\\ASUS\\OneDrive\\Desktop\\Mura\\cam_visualizations_all_parts\\XR_WRIST\\abnormal\\actual\n",
      "Saved original to: C:\\Users\\ASUS\\OneDrive\\Desktop\\Mura\\cam_visualizations_all_parts\\XR_WRIST\\abnormal\\actual\\XR_WRIST_abnormal_actual_1_20250723_125541_original.png\n",
      "Saved heatmap to: C:\\Users\\ASUS\\OneDrive\\Desktop\\Mura\\cam_visualizations_all_parts\\XR_WRIST\\abnormal\\actual\\XR_WRIST_abnormal_actual_1_20250723_125541_heatmap.png\n",
      "Saved overlay to: C:\\Users\\ASUS\\OneDrive\\Desktop\\Mura\\cam_visualizations_all_parts\\XR_WRIST\\abnormal\\actual\\XR_WRIST_abnormal_actual_1_20250723_125541_cam_overlay.png\n",
      "Saving to directory: C:\\Users\\ASUS\\OneDrive\\Desktop\\Mura\\cam_visualizations_all_parts\\XR_WRIST\\abnormal\\predicted\n",
      "Saved original to: C:\\Users\\ASUS\\OneDrive\\Desktop\\Mura\\cam_visualizations_all_parts\\XR_WRIST\\abnormal\\predicted\\XR_WRIST_abnormal_predicted_2_20250723_125545_original.png\n",
      "Saved heatmap to: C:\\Users\\ASUS\\OneDrive\\Desktop\\Mura\\cam_visualizations_all_parts\\XR_WRIST\\abnormal\\predicted\\XR_WRIST_abnormal_predicted_2_20250723_125545_heatmap.png\n",
      "Saved overlay to: C:\\Users\\ASUS\\OneDrive\\Desktop\\Mura\\cam_visualizations_all_parts\\XR_WRIST\\abnormal\\predicted\\XR_WRIST_abnormal_predicted_2_20250723_125545_cam_overlay.png\n"
     ]
    },
    {
     "name": "stderr",
     "output_type": "stream",
     "text": [
      "Generating abnormal CAMs: 100%|██████████████████████████████████████████████████████████| 3/3 [00:19<00:00,  6.35s/it]"
     ]
    },
    {
     "name": "stdout",
     "output_type": "stream",
     "text": [
      "Saving to directory: C:\\Users\\ASUS\\OneDrive\\Desktop\\Mura\\cam_visualizations_all_parts\\XR_WRIST\\abnormal\\actual\n",
      "Saved original to: C:\\Users\\ASUS\\OneDrive\\Desktop\\Mura\\cam_visualizations_all_parts\\XR_WRIST\\abnormal\\actual\\XR_WRIST_abnormal_actual_2_20250723_125548_original.png\n",
      "Saved heatmap to: C:\\Users\\ASUS\\OneDrive\\Desktop\\Mura\\cam_visualizations_all_parts\\XR_WRIST\\abnormal\\actual\\XR_WRIST_abnormal_actual_2_20250723_125548_heatmap.png\n",
      "Saved overlay to: C:\\Users\\ASUS\\OneDrive\\Desktop\\Mura\\cam_visualizations_all_parts\\XR_WRIST\\abnormal\\actual\\XR_WRIST_abnormal_actual_2_20250723_125548_cam_overlay.png\n",
      "\n",
      "🎉 CAM generation complete for all body parts!\n",
      "Results saved in: cam_visualizations_all_parts\n",
      "\n",
      "📊 CAM Generation Summary:\n",
      "==================================================\n",
      "XR_ELBOW    : Normal=18, Abnormal=18, Total=36\n",
      "XR_FINGER   : Normal=18, Abnormal=18, Total=36\n",
      "XR_FOREARM  : Normal=18, Abnormal=18, Total=36\n",
      "XR_HAND     : Normal=18, Abnormal=18, Total=36\n",
      "XR_HUMERUS  : Normal=18, Abnormal=18, Total=36\n",
      "XR_SHOULDER : Normal=18, Abnormal=18, Total=36\n",
      "XR_WRIST    : Normal=18, Abnormal=18, Total=36\n",
      "==================================================\n",
      "Total CAMs generated: 252\n",
      "\n",
      "🎉 Complete pipeline finished!\n"
     ]
    },
    {
     "name": "stderr",
     "output_type": "stream",
     "text": [
      "\n"
     ]
    }
   ],
   "source": [
    "import torch\n",
    "import torch.nn as nn\n",
    "import torch.nn.functional as F\n",
    "import torchvision.models as models\n",
    "import torchvision.transforms as transforms\n",
    "from torch.utils.data import Dataset, DataLoader\n",
    "import pandas as pd\n",
    "import os\n",
    "from PIL import Image\n",
    "import numpy as np\n",
    "import cv2\n",
    "import matplotlib.pyplot as plt\n",
    "from tqdm import tqdm\n",
    "from datetime import datetime  # Corrected import for timestamp functionality\n",
    "\n",
    "# Device configuration\n",
    "device = torch.device(\"cuda\" if torch.cuda.is_available() else \"cpu\")\n",
    "print(f\"Using device: {device}\")\n",
    "\n",
    "# Image transformations (matching your training setup)\n",
    "transform = transforms.Compose([\n",
    "    transforms.Resize((224, 224)),\n",
    "    transforms.ToTensor(),\n",
    "    transforms.Normalize(mean=[0.485, 0.456, 0.406], std=[0.229, 0.224, 0.225])\n",
    "])\n",
    "\n",
    "# Custom Dataset for loading images with labels\n",
    "class ImageDataset(Dataset):\n",
    "    def __init__(self, image_paths, labels, transform=None):\n",
    "        self.image_paths = image_paths\n",
    "        self.labels = labels\n",
    "        self.transform = transform\n",
    "\n",
    "    def __len__(self):\n",
    "        return len(self.image_paths)\n",
    "\n",
    "    def __getitem__(self, idx):\n",
    "        img_path = self.image_paths[idx]\n",
    "        label = self.labels[idx]\n",
    "        image = Image.open(img_path).convert('RGB')\n",
    "        if self.transform:\n",
    "            image = self.transform(image)\n",
    "        return image, img_path, label\n",
    "\n",
    "# Modified ResNet18 model to support CAM\n",
    "class ResNet18ForCAM(nn.Module):\n",
    "    def __init__(self, num_classes=2, dropout_rate=0.2):\n",
    "        super(ResNet18ForCAM, self).__init__()\n",
    "        self.backbone = models.resnet18(weights=None)\n",
    "        self.backbone = nn.Sequential(*list(self.backbone.children())[:-2])\n",
    "        self.global_pool = nn.AdaptiveAvgPool2d((1, 1))\n",
    "        self.classifier = nn.Sequential(\n",
    "            nn.Flatten(),\n",
    "            nn.Dropout(dropout_rate),\n",
    "            nn.Linear(512, 256),\n",
    "            nn.ReLU(),\n",
    "            nn.Dropout(dropout_rate),\n",
    "            nn.Linear(256, num_classes)\n",
    "        )\n",
    "\n",
    "    def forward(self, x):\n",
    "        features = self.backbone(x)\n",
    "        pooled = self.global_pool(features)\n",
    "        return self.classifier(pooled)\n",
    "\n",
    "    def get_features(self, x):\n",
    "        return self.backbone(x)\n",
    "\n",
    "# Load saved model\n",
    "def load_model(model_path, device):\n",
    "    try:\n",
    "        model = ResNet18ForCAM(num_classes=2, dropout_rate=0.2)\n",
    "        checkpoint = torch.load(model_path, map_location=device)\n",
    "        if 'model_state_dict' in checkpoint:\n",
    "            model.load_state_dict(checkpoint['model_state_dict'])\n",
    "        else:\n",
    "            model.load_state_dict(checkpoint)\n",
    "        model.to(device)\n",
    "        model.eval()\n",
    "        return model\n",
    "    except Exception as e:\n",
    "        print(f\"Error loading model {model_path}: {e}\")\n",
    "        return None\n",
    "\n",
    "# Generate CAM heatmap using Grad-CAM (with added threshold)\n",
    "def generate_cam(model, image_tensor, target_class, device):\n",
    "    model.eval()\n",
    "    \n",
    "    features = None\n",
    "    gradients = None\n",
    "    \n",
    "    def hook_features(module, input, output):\n",
    "        nonlocal features\n",
    "        features = output\n",
    "    \n",
    "    def hook_gradients(module, grad_in, grad_out):\n",
    "        nonlocal gradients\n",
    "        gradients = grad_out[0]\n",
    "    \n",
    "    # Register hooks on the last conv layer\n",
    "    try:\n",
    "        handle_features = model.backbone[-1][-1].conv2.register_forward_hook(hook_features)\n",
    "        handle_gradients = model.backbone[-1][-1].conv2.register_backward_hook(hook_gradients)\n",
    "    except:\n",
    "        # Alternative hook registration if structure differs\n",
    "        handle_features = model.backbone[-1].conv2.register_forward_hook(hook_features)\n",
    "        handle_gradients = model.backbone[-1].conv2.register_backward_hook(hook_gradients)\n",
    "    \n",
    "    # Forward pass\n",
    "    output = model(image_tensor)\n",
    "    model.zero_grad()\n",
    "    \n",
    "    # Backward pass for target class\n",
    "    one_hot = torch.zeros_like(output)\n",
    "    one_hot[0][target_class] = 1\n",
    "    output.backward(gradient=one_hot, retain_graph=True)\n",
    "    \n",
    "    # Compute Grad-CAM\n",
    "    weights = torch.mean(gradients, dim=[2, 3], keepdim=True)\n",
    "    cam = torch.sum(weights * features, dim=1).squeeze()\n",
    "    cam = F.relu(cam)\n",
    "    cam = F.interpolate(cam.unsqueeze(0).unsqueeze(0), size=(224, 224), mode='bilinear', align_corners=False)\n",
    "    cam = cam.squeeze().detach().cpu().numpy()\n",
    "    cam = (cam - cam.min()) / (cam.max() - cam.min() + 1e-8)\n",
    "    cam[cam < 0.2] = 0  # Threshold to suppress weak activations\n",
    "    \n",
    "    # Clean up hooks\n",
    "    handle_features.remove()\n",
    "    handle_gradients.remove()\n",
    "    \n",
    "    return cam\n",
    "\n",
    "# Visualize and save CAM (with corrected timestamp handling)\n",
    "def visualize_and_save_cam(original_path, cam, prediction, actual_label, output_dir, filename, show_plots=False):\n",
    "    original = cv2.imread(original_path)\n",
    "    if original is None:\n",
    "        print(f\"Could not load image: {original_path}\")\n",
    "        return\n",
    "        \n",
    "    original = cv2.resize(original, (224, 224))\n",
    "    heatmap = cv2.applyColorMap(np.uint8(255 * cam), cv2.COLORMAP_JET)\n",
    "    overlaid = cv2.addWeighted(original, 0.6, heatmap, 0.4, 0)\n",
    "    \n",
    "    # Ensure absolute paths and print for debugging\n",
    "    abs_output_dir = os.path.abspath(output_dir)\n",
    "    os.makedirs(abs_output_dir, exist_ok=True)\n",
    "    print(f\"Saving to directory: {abs_output_dir}\")\n",
    "    \n",
    "    # Save components with unique timestamps to avoid conflicts (with try-except for safety)\n",
    "    try:\n",
    "        timestamp = datetime.now().strftime(\"%Y%m%d_%H%M%S\")\n",
    "    except Exception as e:\n",
    "        print(f\"Timestamp error: {e}. Using fallback.\")\n",
    "        timestamp = \"no_timestamp\"\n",
    "        \n",
    "    original_path_save = os.path.join(abs_output_dir, f\"{filename}_{timestamp}_original.png\")\n",
    "    heatmap_path_save = os.path.join(abs_output_dir, f\"{filename}_{timestamp}_heatmap.png\")\n",
    "    overlaid_path_save = os.path.join(abs_output_dir, f\"{filename}_{timestamp}_cam_overlay.png\")\n",
    "    \n",
    "    cv2.imwrite(original_path_save, original)\n",
    "    print(f\"Saved original to: {original_path_save}\")\n",
    "    \n",
    "    cv2.imwrite(heatmap_path_save, heatmap)\n",
    "    print(f\"Saved heatmap to: {heatmap_path_save}\")\n",
    "    \n",
    "    cv2.imwrite(overlaid_path_save, overlaid)\n",
    "    print(f\"Saved overlay to: {overlaid_path_save}\")\n",
    "    \n",
    "    # Optional: Display\n",
    "    if show_plots:\n",
    "        plt.figure(figsize=(15, 5))\n",
    "        plt.subplot(1, 3, 1)\n",
    "        plt.title('Original Image')\n",
    "        plt.imshow(cv2.cvtColor(original, cv2.COLOR_BGR2RGB))\n",
    "        plt.axis('off')\n",
    "        \n",
    "        plt.subplot(1, 3, 2)\n",
    "        plt.title('Heatmap')\n",
    "        plt.imshow(cam, cmap='jet')\n",
    "        plt.axis('off')\n",
    "        \n",
    "        plt.subplot(1, 3, 3)\n",
    "        plt.title(f'Predicted: {prediction}\\nActual: {actual_label}')\n",
    "        plt.imshow(cv2.cvtColor(overlaid, cv2.COLOR_BGR2RGB))\n",
    "        plt.axis('off')\n",
    "        plt.tight_layout()\n",
    "        plt.show()\n",
    "\n",
    "# Enhanced function to generate CAMs for all body parts with normal/abnormal separation\n",
    "def generate_cams_for_all_body_parts(image_csv, root_dir, model_dir, output_dir, \n",
    "                                    num_normal=5, num_abnormal=5, show_plots=False):\n",
    "    \"\"\"\n",
    "    Generate CAMs for all body parts, including both normal and abnormal cases\n",
    "    \n",
    "    Args:\n",
    "        image_csv: Path to CSV file with image paths and labels\n",
    "        root_dir: Root directory containing MURA images\n",
    "        model_dir: Directory containing saved model files\n",
    "        output_dir: Directory to save CAM visualizations\n",
    "        num_normal: Number of normal cases to process per body part\n",
    "        num_abnormal: Number of abnormal cases to process per body part\n",
    "        show_plots: Whether to display plots during processing\n",
    "    \"\"\"\n",
    "    \n",
    "    # All body parts in MURA dataset\n",
    "    body_parts = ['XR_ELBOW', 'XR_FINGER', 'XR_FOREARM', 'XR_HAND', \n",
    "                  'XR_HUMERUS', 'XR_SHOULDER', 'XR_WRIST']\n",
    "    \n",
    "    if not os.path.exists(image_csv):\n",
    "        print(f\"CSV file not found: {image_csv}\")\n",
    "        return\n",
    "    \n",
    "    # Load the CSV data\n",
    "    data = pd.read_csv(image_csv, header=None, names=['path', 'label'])\n",
    "    \n",
    "    for body_part in body_parts:\n",
    "        print(f\"\\n{'='*60}\")\n",
    "        print(f\"Processing {body_part}\")\n",
    "        print(f\"{'='*60}\")\n",
    "        \n",
    "        # Check if model exists for this body part\n",
    "        model_path = os.path.join(model_dir, f'resnet18_{body_part}_final.pth')\n",
    "        if not os.path.exists(model_path):\n",
    "            print(f\"❌ Model not found for {body_part}: {model_path}\")\n",
    "            continue\n",
    "        \n",
    "        # Load model\n",
    "        model = load_model(model_path, device)\n",
    "        if model is None:\n",
    "            continue\n",
    "            \n",
    "        print(f\"✅ Model loaded successfully for {body_part}\")\n",
    "        \n",
    "        # Filter data for this body part\n",
    "        body_part_data = data[data['path'].str.contains(body_part)]\n",
    "        \n",
    "        if len(body_part_data) == 0:\n",
    "            print(f\"⚠️ No data found for {body_part}\")\n",
    "            continue\n",
    "        \n",
    "        # Separate normal and abnormal cases\n",
    "        normal_data = body_part_data[body_part_data['label'] == 0].head(num_normal * 3)  # Get more to account for missing files\n",
    "        abnormal_data = body_part_data[body_part_data['label'] == 1].head(num_abnormal * 3)\n",
    "        \n",
    "        # Process both normal and abnormal cases\n",
    "        for case_type, case_data, num_cases in [('normal', normal_data, num_normal), \n",
    "                                               ('abnormal', abnormal_data, num_abnormal)]:\n",
    "            \n",
    "            print(f\"\\n📊 Processing {case_type} cases for {body_part}...\")\n",
    "            \n",
    "            image_paths = []\n",
    "            labels = []\n",
    "            \n",
    "            # Collect image paths and labels\n",
    "            processed_count = 0\n",
    "            for _, row in case_data.iterrows():\n",
    "                if processed_count >= num_cases:\n",
    "                    break\n",
    "                    \n",
    "                study_path = os.path.join(root_dir, row['path'].replace('MURA-v1.1/', ''))\n",
    "                if os.path.exists(study_path):\n",
    "                    try:\n",
    "                        for img_name in os.listdir(study_path):\n",
    "                            if img_name.lower().endswith(('.jpg', '.jpeg', '.png')):\n",
    "                                image_paths.append(os.path.join(study_path, img_name))\n",
    "                                labels.append(row['label'])\n",
    "                                processed_count += 1\n",
    "                                if processed_count >= num_cases:\n",
    "                                    break\n",
    "                    except PermissionError:\n",
    "                        continue\n",
    "            \n",
    "            if not image_paths:\n",
    "                print(f\"⚠️ No {case_type} images found for {body_part}\")\n",
    "                continue\n",
    "            \n",
    "            print(f\"📁 Found {len(image_paths)} {case_type} images for {body_part}\")\n",
    "            \n",
    "            # Create dataset and dataloader\n",
    "            dataset = ImageDataset(image_paths, labels, transform=transform)\n",
    "            loader = DataLoader(dataset, batch_size=1, shuffle=False)\n",
    "            \n",
    "            # Generate CAMs\n",
    "            for i, (image, img_path, actual_label) in enumerate(tqdm(loader, \n",
    "                                                                    desc=f\"Generating {case_type} CAMs\")):\n",
    "                try:\n",
    "                    image = image.to(device)\n",
    "                    output = model(image)\n",
    "                    _, predicted = torch.max(output, 1)\n",
    "                    pred_class = predicted.item()\n",
    "                    pred_label = 'Abnormal' if pred_class == 1 else 'Normal'\n",
    "                    actual_label_str = 'Abnormal' if actual_label.item() == 1 else 'Normal'\n",
    "                    \n",
    "                    # Generate CAM for both predicted class and actual class\n",
    "                    for target_class, class_name in [(pred_class, 'predicted'), (actual_label.item(), 'actual')]:\n",
    "                        cam = generate_cam(model, image, target_class, device)\n",
    "                        \n",
    "                        # Create output directory for this body part and case type\n",
    "                        case_output_dir = os.path.join(output_dir, body_part, case_type, class_name)\n",
    "                        filename = f\"{body_part}_{case_type}_{class_name}_{i}\"\n",
    "                        \n",
    "                        visualize_and_save_cam(img_path[0], cam, pred_label, actual_label_str, \n",
    "                                             case_output_dir, filename, show_plots)\n",
    "                    \n",
    "                except Exception as e:\n",
    "                    print(f\"❌ Error processing image {i} for {body_part} {case_type}: {e}\")\n",
    "                    continue\n",
    "    \n",
    "    print(f\"\\n🎉 CAM generation complete for all body parts!\")\n",
    "    print(f\"Results saved in: {output_dir}\")\n",
    "\n",
    "# Function to generate summary statistics\n",
    "def generate_summary_stats(output_dir):\n",
    "    \"\"\"Generate summary statistics of CAM generation\"\"\"\n",
    "    print(f\"\\n📊 CAM Generation Summary:\")\n",
    "    print(f\"{'='*50}\")\n",
    "    \n",
    "    body_parts = ['XR_ELBOW', 'XR_FINGER', 'XR_FOREARM', 'XR_HAND', \n",
    "                  'XR_HUMERUS', 'XR_SHOULDER', 'XR_WRIST']\n",
    "    \n",
    "    total_cams = 0\n",
    "    for body_part in body_parts:\n",
    "        body_part_dir = os.path.join(output_dir, body_part)\n",
    "        if os.path.exists(body_part_dir):\n",
    "            normal_dir = os.path.join(body_part_dir, 'normal')\n",
    "            abnormal_dir = os.path.join(body_part_dir, 'abnormal')\n",
    "            \n",
    "            normal_count = 0\n",
    "            abnormal_count = 0\n",
    "            \n",
    "            if os.path.exists(normal_dir):\n",
    "                for subdir in os.listdir(normal_dir):\n",
    "                    subdir_path = os.path.join(normal_dir, subdir)\n",
    "                    if os.path.isdir(subdir_path):\n",
    "                        normal_count += len([f for f in os.listdir(subdir_path) if f.endswith('.png')])\n",
    "            \n",
    "            if os.path.exists(abnormal_dir):\n",
    "                for subdir in os.listdir(abnormal_dir):\n",
    "                    subdir_path = os.path.join(abnormal_dir, subdir)\n",
    "                    if os.path.isdir(subdir_path):\n",
    "                        abnormal_count += len([f for f in os.listdir(subdir_path) if f.endswith('.png')])\n",
    "            \n",
    "            part_total = normal_count + abnormal_count\n",
    "            total_cams += part_total\n",
    "            \n",
    "            if part_total > 0:\n",
    "                print(f\"{body_part:12}: Normal={normal_count:2d}, Abnormal={abnormal_count:2d}, Total={part_total:2d}\")\n",
    "    \n",
    "    print(f\"{'='*50}\")\n",
    "    print(f\"Total CAMs generated: {total_cams}\")\n",
    "\n",
    "# Main execution\n",
    "if __name__ == \"__main__\":\n",
    "    # Configure paths (adjust to your setup)\n",
    "    valid_csv = r\"C:\\Users\\ASUS\\OneDrive\\Desktop\\Mura\\MURA-v1.1\\valid_labeled_studies.csv\"\n",
    "    root_dir = r\"C:\\Users\\ASUS\\OneDrive\\Desktop\\Mura\\MURA-v1.1\"\n",
    "    model_dir = r\"C:\\Users\\ASUS\\OneDrive\\Desktop\\Mura\"\n",
    "    output_dir = \"cam_visualizations_all_parts\"\n",
    "    \n",
    "    # Generate CAMs for all body parts with both normal and abnormal cases\n",
    "    generate_cams_for_all_body_parts(\n",
    "        image_csv=valid_csv,\n",
    "        root_dir=root_dir,\n",
    "        model_dir=model_dir,\n",
    "        output_dir=output_dir,\n",
    "        num_normal=3,      # Number of normal cases per body part\n",
    "        num_abnormal=3,    # Number of abnormal cases per body part\n",
    "        show_plots=False   # Set to True if you want to see plots during processing\n",
    "    )\n",
    "    \n",
    "    # Generate summary statistics\n",
    "    generate_summary_stats(output_dir)\n",
    "    \n",
    "    print(\"\\n🎉 Complete pipeline finished!\")\n"
   ]
  },
  {
   "cell_type": "code",
   "execution_count": null,
   "id": "170086ac-ea78-4067-84ce-16c3979c1d4d",
   "metadata": {},
   "outputs": [],
   "source": []
  }
 ],
 "metadata": {
  "kernelspec": {
   "display_name": "Python 3 (ipykernel)",
   "language": "python",
   "name": "python3"
  },
  "language_info": {
   "codemirror_mode": {
    "name": "ipython",
    "version": 3
   },
   "file_extension": ".py",
   "mimetype": "text/x-python",
   "name": "python",
   "nbconvert_exporter": "python",
   "pygments_lexer": "ipython3",
   "version": "3.12.3"
  }
 },
 "nbformat": 4,
 "nbformat_minor": 5
}
